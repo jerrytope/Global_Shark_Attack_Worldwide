{
  "nbformat": 4,
  "nbformat_minor": 0,
  "metadata": {
    "kernelspec": {
      "display_name": "Python 3",
      "language": "python",
      "name": "python3"
    },
    "language_info": {
      "codemirror_mode": {
        "name": "ipython",
        "version": 3
      },
      "file_extension": ".py",
      "mimetype": "text/x-python",
      "name": "python",
      "nbconvert_exporter": "python",
      "pygments_lexer": "ipython3",
      "version": "3.7.0"
    },
    "colab": {
      "name": "Global Shark Attack Worldwide.ipynb",
      "provenance": []
    }
  },
  "cells": [
    {
      "cell_type": "markdown",
      "metadata": {
        "id": "ZXRdIik5URdO"
      },
      "source": [
        "# Global Shark Attack File Analysis\n",
        "The Shark Research Institute (SRI) maintains a log of shark attacks worldwide, the Global Shark Attack File (GSAF). It is continually updated as new incidents occur, and was started in 1992 by the SRI. The purpose of the GSAF is to \"use forensic analysis to demonstrate and emphasize the likelihood of shark/human interactions in comparison to the myriad dangers that we face in our daily lives. With a better understanding of these interactions we can minimize the possibility of being injured by a shark, and shift the discussion from fear to conservation of all shark species worldwide\", per the SRI/GSAF website https://www.sharks.org/global-shark-attack-file)\n",
        "\n",
        "The current log file, in Excel form, can be downloaded from the \"chronoligically\" link at the site below:\n",
        "\n",
        "https://www.sharks.org/global-shark-attack-file\n",
        "\n",
        "The goal of this project to clean and analyze shark incidents worldwide. Some of the areas of interest in this project are type of incident (provoked or unprovoked), fatalities, the shark species involved and activity of the human."
      ]
    },
    {
      "cell_type": "code",
      "metadata": {
        "id": "xQbBm8-2URdh"
      },
      "source": [
        "#importing the needed libraries \n",
        "\n",
        "import pandas as pd\n",
        "import numpy as np\n",
        "import matplotlib.pyplot as plt\n",
        "%matplotlib inline "
      ],
      "execution_count": 47,
      "outputs": []
    },
    {
      "cell_type": "code",
      "metadata": {
        "colab": {
          "resources": {
            "http://localhost:8080/nbextensions/google.colab/files.js": {
              "data": "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",
              "ok": true,
              "headers": [
                [
                  "content-type",
                  "application/javascript"
                ]
              ],
              "status": 200,
              "status_text": ""
            }
          },
          "base_uri": "https://localhost:8080/",
          "height": 72
        },
        "id": "eYX3czccgqTf",
        "outputId": "d3adea97-0f34-4f22-a104-213561af1bb1"
      },
      "source": [
        "from google.colab import files\n",
        "uploaded = files.upload()"
      ],
      "execution_count": 48,
      "outputs": [
        {
          "output_type": "display_data",
          "data": {
            "text/html": [
              "\n",
              "     <input type=\"file\" id=\"files-265f7545-55e0-461c-ad41-4e961c1c06c5\" name=\"files[]\" multiple disabled\n",
              "        style=\"border:none\" />\n",
              "     <output id=\"result-265f7545-55e0-461c-ad41-4e961c1c06c5\">\n",
              "      Upload widget is only available when the cell has been executed in the\n",
              "      current browser session. Please rerun this cell to enable.\n",
              "      </output>\n",
              "      <script src=\"/nbextensions/google.colab/files.js\"></script> "
            ],
            "text/plain": [
              "<IPython.core.display.HTML object>"
            ]
          },
          "metadata": {
            "tags": []
          }
        },
        {
          "output_type": "stream",
          "text": [
            "Saving GSAF5.xlsx to GSAF5 (1).xlsx\n"
          ],
          "name": "stdout"
        }
      ]
    },
    {
      "cell_type": "code",
      "metadata": {
        "colab": {
          "base_uri": "https://localhost:8080/",
          "height": 445
        },
        "id": "f90ypQHAhUhP",
        "outputId": "e200e0f8-63ef-434f-b813-dff25254b6e1"
      },
      "source": [
        "import io  \n",
        "df = pd.read_excel(io.BytesIO(uploaded['GSAF5.xlsx']))\n",
        "df.head()"
      ],
      "execution_count": 49,
      "outputs": [
        {
          "output_type": "execute_result",
          "data": {
            "text/html": [
              "<div>\n",
              "<style scoped>\n",
              "    .dataframe tbody tr th:only-of-type {\n",
              "        vertical-align: middle;\n",
              "    }\n",
              "\n",
              "    .dataframe tbody tr th {\n",
              "        vertical-align: top;\n",
              "    }\n",
              "\n",
              "    .dataframe thead th {\n",
              "        text-align: right;\n",
              "    }\n",
              "</style>\n",
              "<table border=\"1\" class=\"dataframe\">\n",
              "  <thead>\n",
              "    <tr style=\"text-align: right;\">\n",
              "      <th></th>\n",
              "      <th>Case Number</th>\n",
              "      <th>Date</th>\n",
              "      <th>Year</th>\n",
              "      <th>Type</th>\n",
              "      <th>Country</th>\n",
              "      <th>Area</th>\n",
              "      <th>Location</th>\n",
              "      <th>Activity</th>\n",
              "      <th>Name</th>\n",
              "      <th>Unnamed: 9</th>\n",
              "      <th>Age</th>\n",
              "      <th>Injury</th>\n",
              "      <th>Fatal (Y/N)</th>\n",
              "      <th>Time</th>\n",
              "      <th>Species</th>\n",
              "      <th>Investigator or Source</th>\n",
              "      <th>pdf</th>\n",
              "      <th>href formula</th>\n",
              "      <th>href</th>\n",
              "      <th>Case Number.1</th>\n",
              "      <th>Case Number.2</th>\n",
              "      <th>original order</th>\n",
              "      <th>Unnamed: 22</th>\n",
              "      <th>Unnamed: 23</th>\n",
              "    </tr>\n",
              "  </thead>\n",
              "  <tbody>\n",
              "    <tr>\n",
              "      <th>0</th>\n",
              "      <td>2020.02.05</td>\n",
              "      <td>05-Feb-2020</td>\n",
              "      <td>2020.0</td>\n",
              "      <td>Unprovoked</td>\n",
              "      <td>USA</td>\n",
              "      <td>Maui</td>\n",
              "      <td>NaN</td>\n",
              "      <td>Stand-Up Paddle boarding</td>\n",
              "      <td>NaN</td>\n",
              "      <td>NaN</td>\n",
              "      <td>NaN</td>\n",
              "      <td>No injury, but paddleboard bitten</td>\n",
              "      <td>N</td>\n",
              "      <td>09h40</td>\n",
              "      <td>Tiger shark</td>\n",
              "      <td>K. McMurray, TrackingSharks.com</td>\n",
              "      <td>NaN</td>\n",
              "      <td>NaN</td>\n",
              "      <td>NaN</td>\n",
              "      <td>NaN</td>\n",
              "      <td>NaN</td>\n",
              "      <td>NaN</td>\n",
              "      <td>NaN</td>\n",
              "      <td>NaN</td>\n",
              "    </tr>\n",
              "    <tr>\n",
              "      <th>1</th>\n",
              "      <td>2020.01.30.R</td>\n",
              "      <td>Reported 30-Jan-2020</td>\n",
              "      <td>2020.0</td>\n",
              "      <td>Provoked</td>\n",
              "      <td>BAHAMAS</td>\n",
              "      <td>Exumas</td>\n",
              "      <td>NaN</td>\n",
              "      <td>Floating</td>\n",
              "      <td>Ana Bruna Avila</td>\n",
              "      <td>F</td>\n",
              "      <td>24</td>\n",
              "      <td>PROVOKED INCIDENT Scratches to left wrist</td>\n",
              "      <td>N</td>\n",
              "      <td>NaN</td>\n",
              "      <td>NaN</td>\n",
              "      <td>K. McMurray, TrackingSharks.com</td>\n",
              "      <td>NaN</td>\n",
              "      <td>NaN</td>\n",
              "      <td>NaN</td>\n",
              "      <td>NaN</td>\n",
              "      <td>NaN</td>\n",
              "      <td>NaN</td>\n",
              "      <td>NaN</td>\n",
              "      <td>NaN</td>\n",
              "    </tr>\n",
              "    <tr>\n",
              "      <th>2</th>\n",
              "      <td>2020.01.17</td>\n",
              "      <td>17-Jan-2020</td>\n",
              "      <td>2020.0</td>\n",
              "      <td>Unprovoked</td>\n",
              "      <td>AUSTRALIA</td>\n",
              "      <td>New South Wales</td>\n",
              "      <td>Windang Beach</td>\n",
              "      <td>Surfing</td>\n",
              "      <td>Will Schroeter</td>\n",
              "      <td>M</td>\n",
              "      <td>59</td>\n",
              "      <td>Laceration ot left ankle and foot</td>\n",
              "      <td>N</td>\n",
              "      <td>08h00</td>\n",
              "      <td>\"A small shark\"</td>\n",
              "      <td>B. Myatt &amp; M. Michaelson, GSAF; K. McMurray, T...</td>\n",
              "      <td>2020.01.17-Schroeter.pdf</td>\n",
              "      <td>http://sharkattackfile.net/spreadsheets/pdf_di...</td>\n",
              "      <td>http://sharkattackfile.net/spreadsheets/pdf_di...</td>\n",
              "      <td>2020.01.17</td>\n",
              "      <td>2020.01.17</td>\n",
              "      <td>6502.0</td>\n",
              "      <td>NaN</td>\n",
              "      <td>NaN</td>\n",
              "    </tr>\n",
              "    <tr>\n",
              "      <th>3</th>\n",
              "      <td>2020.01.16</td>\n",
              "      <td>16-Jan-2020</td>\n",
              "      <td>2020.0</td>\n",
              "      <td>Unprovoked</td>\n",
              "      <td>NEW ZEALAND</td>\n",
              "      <td>Southland</td>\n",
              "      <td>Oreti Beach</td>\n",
              "      <td>Surfing</td>\n",
              "      <td>Jordan King</td>\n",
              "      <td>F</td>\n",
              "      <td>13</td>\n",
              "      <td>Minor injury to lower leg</td>\n",
              "      <td>N</td>\n",
              "      <td>20h30</td>\n",
              "      <td>Broadnose seven gill shark?</td>\n",
              "      <td>K. McMurray, TrackingSharks.com</td>\n",
              "      <td>2020.01.16-King.pdf</td>\n",
              "      <td>http://sharkattackfile.net/spreadsheets/pdf_di...</td>\n",
              "      <td>http://sharkattackfile.net/spreadsheets/pdf_di...</td>\n",
              "      <td>2020.01.16</td>\n",
              "      <td>2020.01.16</td>\n",
              "      <td>6501.0</td>\n",
              "      <td>NaN</td>\n",
              "      <td>NaN</td>\n",
              "    </tr>\n",
              "    <tr>\n",
              "      <th>4</th>\n",
              "      <td>2020.01.13</td>\n",
              "      <td>13-Jan-2020</td>\n",
              "      <td>2020.0</td>\n",
              "      <td>Unprovoked</td>\n",
              "      <td>USA</td>\n",
              "      <td>North Carolina</td>\n",
              "      <td>Rodanthe, Dare County</td>\n",
              "      <td>Surfing</td>\n",
              "      <td>Samuel Horne</td>\n",
              "      <td>M</td>\n",
              "      <td>26</td>\n",
              "      <td>Lacerations to foot</td>\n",
              "      <td>N</td>\n",
              "      <td>14h33</td>\n",
              "      <td>NaN</td>\n",
              "      <td>C. Creswell, GSAF</td>\n",
              "      <td>2020.01.13-Horne.pdf</td>\n",
              "      <td>http://sharkattackfile.net/spreadsheets/pdf_di...</td>\n",
              "      <td>http://sharkattackfile.net/spreadsheets/pdf_di...</td>\n",
              "      <td>2020.01.13</td>\n",
              "      <td>2020.01.13</td>\n",
              "      <td>6500.0</td>\n",
              "      <td>NaN</td>\n",
              "      <td>NaN</td>\n",
              "    </tr>\n",
              "  </tbody>\n",
              "</table>\n",
              "</div>"
            ],
            "text/plain": [
              "    Case Number                  Date  ...  Unnamed: 22 Unnamed: 23\n",
              "0    2020.02.05           05-Feb-2020  ...          NaN         NaN\n",
              "1  2020.01.30.R  Reported 30-Jan-2020  ...          NaN         NaN\n",
              "2    2020.01.17           17-Jan-2020  ...          NaN         NaN\n",
              "3    2020.01.16           16-Jan-2020  ...          NaN         NaN\n",
              "4    2020.01.13           13-Jan-2020  ...          NaN         NaN\n",
              "\n",
              "[5 rows x 24 columns]"
            ]
          },
          "metadata": {
            "tags": []
          },
          "execution_count": 49
        }
      ]
    },
    {
      "cell_type": "code",
      "metadata": {
        "colab": {
          "base_uri": "https://localhost:8080/"
        },
        "id": "2_bBtXxAURd0",
        "outputId": "e7d92b71-db23-4a73-f203-40d4b40356be"
      },
      "source": [
        "df.info()"
      ],
      "execution_count": 50,
      "outputs": [
        {
          "output_type": "stream",
          "text": [
            "<class 'pandas.core.frame.DataFrame'>\n",
            "RangeIndex: 6462 entries, 0 to 6461\n",
            "Data columns (total 24 columns):\n",
            " #   Column                  Non-Null Count  Dtype  \n",
            "---  ------                  --------------  -----  \n",
            " 0   Case Number             6460 non-null   object \n",
            " 1   Date                    6461 non-null   object \n",
            " 2   Year                    6459 non-null   float64\n",
            " 3   Type                    6457 non-null   object \n",
            " 4   Country                 6411 non-null   object \n",
            " 5   Area                    5999 non-null   object \n",
            " 6   Location                5917 non-null   object \n",
            " 7   Activity                5910 non-null   object \n",
            " 8   Name                    6247 non-null   object \n",
            " 9   Unnamed: 9              28 non-null     object \n",
            " 10  Age                     3591 non-null   object \n",
            " 11  Injury                  6433 non-null   object \n",
            " 12  Fatal (Y/N)             5915 non-null   object \n",
            " 13  Time                    3070 non-null   object \n",
            " 14  Species                 3538 non-null   object \n",
            " 15  Investigator or Source  6443 non-null   object \n",
            " 16  pdf                     3066 non-null   object \n",
            " 17  href formula            3062 non-null   object \n",
            " 18  href                    3062 non-null   object \n",
            " 19  Case Number.1           3062 non-null   object \n",
            " 20  Case Number.2           3062 non-null   object \n",
            " 21  original order          3062 non-null   float64\n",
            " 22  Unnamed: 22             0 non-null      float64\n",
            " 23  Unnamed: 23             2 non-null      object \n",
            "dtypes: float64(3), object(21)\n",
            "memory usage: 1.2+ MB\n"
          ],
          "name": "stdout"
        }
      ]
    },
    {
      "cell_type": "markdown",
      "metadata": {
        "id": "6AlOF8m4URd4"
      },
      "source": [
        "From this dataset, we can see that there are 6,262 records/entries on Global Shark Attacks in the world. We can also see that most columns do have some missing data. Not too surprising for this dataset, since there are often unknown/unverifiable circumstances regarding shark attacks. \n",
        "\n",
        "So we'll start by removing several irrelevant columns in the dataset, looking at the Case Numbers, Year, Type of attack, and Country"
      ]
    },
    {
      "cell_type": "code",
      "metadata": {
        "colab": {
          "base_uri": "https://localhost:8080/"
        },
        "id": "fc7XPwY6URd6",
        "outputId": "cc0e78f8-9b67-4159-e0aa-3e0f9f05d1aa"
      },
      "source": [
        "#dropping irrelevant columns\n",
        "\n",
        "df.drop(['Case Number.1', 'Case Number.2','Unnamed: 22','Unnamed: 23','href formula', 'href' ], axis= 1, inplace= True)\n",
        "df.columns"
      ],
      "execution_count": 51,
      "outputs": [
        {
          "output_type": "execute_result",
          "data": {
            "text/plain": [
              "Index(['Case Number', 'Date', 'Year', 'Type', 'Country', 'Area', 'Location',\n",
              "       'Activity', 'Name', 'Unnamed: 9', 'Age', 'Injury', 'Fatal (Y/N)',\n",
              "       'Time', 'Species ', 'Investigator or Source', 'pdf', 'original order'],\n",
              "      dtype='object')"
            ]
          },
          "metadata": {
            "tags": []
          },
          "execution_count": 51
        }
      ]
    },
    {
      "cell_type": "markdown",
      "metadata": {
        "id": "47bLOfOXURd9"
      },
      "source": [
        "We've already established there are lots of missing data in our dataset. So, let's try to get a quick overview of the all the columns affected by this problem"
      ]
    },
    {
      "cell_type": "code",
      "metadata": {
        "colab": {
          "base_uri": "https://localhost:8080/"
        },
        "id": "pRj-WIBTUReA",
        "outputId": "c3bdb3b4-c561-4cdd-bbd3-d0af78230eaf"
      },
      "source": [
        "#Checking for missing data\n",
        "df.isna().sum()"
      ],
      "execution_count": 52,
      "outputs": [
        {
          "output_type": "execute_result",
          "data": {
            "text/plain": [
              "Case Number                  2\n",
              "Date                         1\n",
              "Year                         3\n",
              "Type                         5\n",
              "Country                     51\n",
              "Area                       463\n",
              "Location                   545\n",
              "Activity                   552\n",
              "Name                       215\n",
              "Unnamed: 9                6434\n",
              "Age                       2871\n",
              "Injury                      29\n",
              "Fatal (Y/N)                547\n",
              "Time                      3392\n",
              "Species                   2924\n",
              "Investigator or Source      19\n",
              "pdf                       3396\n",
              "original order            3400\n",
              "dtype: int64"
            ]
          },
          "metadata": {
            "tags": []
          },
          "execution_count": 52
        }
      ]
    },
    {
      "cell_type": "code",
      "metadata": {
        "colab": {
          "base_uri": "https://localhost:8080/",
          "height": 213
        },
        "id": "qWW4cJelUReE",
        "outputId": "7202b51f-4189-4614-ffbb-034c5fdca6c7"
      },
      "source": [
        "# Remove these two rows with Missing Data in Case Number column, since there doesn't appear to be much data to work with\n",
        "df[df['Case Number'].isnull()== True]"
      ],
      "execution_count": 53,
      "outputs": [
        {
          "output_type": "execute_result",
          "data": {
            "text/html": [
              "<div>\n",
              "<style scoped>\n",
              "    .dataframe tbody tr th:only-of-type {\n",
              "        vertical-align: middle;\n",
              "    }\n",
              "\n",
              "    .dataframe tbody tr th {\n",
              "        vertical-align: top;\n",
              "    }\n",
              "\n",
              "    .dataframe thead th {\n",
              "        text-align: right;\n",
              "    }\n",
              "</style>\n",
              "<table border=\"1\" class=\"dataframe\">\n",
              "  <thead>\n",
              "    <tr style=\"text-align: right;\">\n",
              "      <th></th>\n",
              "      <th>Case Number</th>\n",
              "      <th>Date</th>\n",
              "      <th>Year</th>\n",
              "      <th>Type</th>\n",
              "      <th>Country</th>\n",
              "      <th>Area</th>\n",
              "      <th>Location</th>\n",
              "      <th>Activity</th>\n",
              "      <th>Name</th>\n",
              "      <th>Unnamed: 9</th>\n",
              "      <th>Age</th>\n",
              "      <th>Injury</th>\n",
              "      <th>Fatal (Y/N)</th>\n",
              "      <th>Time</th>\n",
              "      <th>Species</th>\n",
              "      <th>Investigator or Source</th>\n",
              "      <th>pdf</th>\n",
              "      <th>original order</th>\n",
              "    </tr>\n",
              "  </thead>\n",
              "  <tbody>\n",
              "    <tr>\n",
              "      <th>4087</th>\n",
              "      <td>NaN</td>\n",
              "      <td>NaN</td>\n",
              "      <td>NaN</td>\n",
              "      <td>NaN</td>\n",
              "      <td>NaN</td>\n",
              "      <td>NaN</td>\n",
              "      <td>NaN</td>\n",
              "      <td>NaN</td>\n",
              "      <td>NaN</td>\n",
              "      <td>NaN</td>\n",
              "      <td>NaN</td>\n",
              "      <td>NaN</td>\n",
              "      <td>NaN</td>\n",
              "      <td>NaN</td>\n",
              "      <td>NaN</td>\n",
              "      <td>NaN</td>\n",
              "      <td>NaN</td>\n",
              "      <td>NaN</td>\n",
              "    </tr>\n",
              "    <tr>\n",
              "      <th>5646</th>\n",
              "      <td>NaN</td>\n",
              "      <td>Reported 06-Sep-1905</td>\n",
              "      <td>1905.0</td>\n",
              "      <td>Provoked</td>\n",
              "      <td>USA</td>\n",
              "      <td>Florida</td>\n",
              "      <td>Fort Pierce, St Lucie County</td>\n",
              "      <td>Fishing</td>\n",
              "      <td>David Curry</td>\n",
              "      <td>NaN</td>\n",
              "      <td>NaN</td>\n",
              "      <td>Lacerations to leg from hooked shark PROVOKED ...</td>\n",
              "      <td>N</td>\n",
              "      <td>NaN</td>\n",
              "      <td>NaN</td>\n",
              "      <td>Muncie Evening Press, 8/6/1913</td>\n",
              "      <td>NaN</td>\n",
              "      <td>NaN</td>\n",
              "    </tr>\n",
              "  </tbody>\n",
              "</table>\n",
              "</div>"
            ],
            "text/plain": [
              "     Case Number                  Date  ...  pdf original order\n",
              "4087         NaN                   NaN  ...  NaN            NaN\n",
              "5646         NaN  Reported 06-Sep-1905  ...  NaN            NaN\n",
              "\n",
              "[2 rows x 18 columns]"
            ]
          },
          "metadata": {
            "tags": []
          },
          "execution_count": 53
        }
      ]
    },
    {
      "cell_type": "code",
      "metadata": {
        "colab": {
          "base_uri": "https://localhost:8080/"
        },
        "id": "Vg1AXr8LUReJ",
        "outputId": "887e152b-e7ca-42be-b49f-9bc3a56b4f7a"
      },
      "source": [
        "df = df[df['Case Number'].isnull()== False]\n",
        "df.info()"
      ],
      "execution_count": 54,
      "outputs": [
        {
          "output_type": "stream",
          "text": [
            "<class 'pandas.core.frame.DataFrame'>\n",
            "Int64Index: 6460 entries, 0 to 6461\n",
            "Data columns (total 18 columns):\n",
            " #   Column                  Non-Null Count  Dtype  \n",
            "---  ------                  --------------  -----  \n",
            " 0   Case Number             6460 non-null   object \n",
            " 1   Date                    6460 non-null   object \n",
            " 2   Year                    6458 non-null   float64\n",
            " 3   Type                    6456 non-null   object \n",
            " 4   Country                 6410 non-null   object \n",
            " 5   Area                    5998 non-null   object \n",
            " 6   Location                5916 non-null   object \n",
            " 7   Activity                5909 non-null   object \n",
            " 8   Name                    6246 non-null   object \n",
            " 9   Unnamed: 9              28 non-null     object \n",
            " 10  Age                     3591 non-null   object \n",
            " 11  Injury                  6432 non-null   object \n",
            " 12  Fatal (Y/N)             5914 non-null   object \n",
            " 13  Time                    3070 non-null   object \n",
            " 14  Species                 3538 non-null   object \n",
            " 15  Investigator or Source  6442 non-null   object \n",
            " 16  pdf                     3066 non-null   object \n",
            " 17  original order          3062 non-null   float64\n",
            "dtypes: float64(2), object(16)\n",
            "memory usage: 958.9+ KB\n"
          ],
          "name": "stdout"
        }
      ]
    },
    {
      "cell_type": "markdown",
      "metadata": {
        "id": "MSsfMISdUReM"
      },
      "source": [
        "Our data has been reduced to 6,460 entries because we've removed two rows from 'Case Number' which has missing data"
      ]
    },
    {
      "cell_type": "code",
      "metadata": {
        "colab": {
          "base_uri": "https://localhost:8080/"
        },
        "id": "X_6ng9oSUReO",
        "outputId": "019fe56e-9a5b-47f5-efcf-27733092d49e"
      },
      "source": [
        "#Evaluating the year column\n",
        "\n",
        "df['Year'].value_counts(dropna = False)"
      ],
      "execution_count": 55,
      "outputs": [
        {
          "output_type": "execute_result",
          "data": {
            "text/plain": [
              "2015.0    143\n",
              "2017.0    138\n",
              "2016.0    130\n",
              "2011.0    128\n",
              "2014.0    127\n",
              "         ... \n",
              "1816.0      1\n",
              "500.0       1\n",
              "1771.0      1\n",
              "1554.0      1\n",
              "1791.0      1\n",
              "Name: Year, Length: 253, dtype: int64"
            ]
          },
          "metadata": {
            "tags": []
          },
          "execution_count": 55
        }
      ]
    },
    {
      "cell_type": "markdown",
      "metadata": {
        "id": "FvZjEFwoUReR"
      },
      "source": [
        "Upon reviewing of the Year column, we'll notice that some years ( 0.0, 500.0, 3019.0) have questionable entries. More so, the year data are dated as far back as the 1500s,1700s & 1800s. So based on the Year Column, We will reduce the scope of the entries to 1900; a year which I'd like to think of as a more mordern era."
      ]
    },
    {
      "cell_type": "code",
      "metadata": {
        "colab": {
          "base_uri": "https://localhost:8080/"
        },
        "id": "vLmpct_gURea",
        "outputId": "602c3679-2555-4adb-f4ab-a74fe7866d96"
      },
      "source": [
        "# Reducing the scope of the Year entries to 1900 and coverting the datatype from float to integer\n",
        "df = df[df['Year'] >= 1900]\n",
        "df['Year'] = df['Year'].astype(int)\n",
        "df.info()"
      ],
      "execution_count": 56,
      "outputs": [
        {
          "output_type": "stream",
          "text": [
            "<class 'pandas.core.frame.DataFrame'>\n",
            "Int64Index: 5718 entries, 0 to 5721\n",
            "Data columns (total 18 columns):\n",
            " #   Column                  Non-Null Count  Dtype  \n",
            "---  ------                  --------------  -----  \n",
            " 0   Case Number             5718 non-null   object \n",
            " 1   Date                    5718 non-null   object \n",
            " 2   Year                    5718 non-null   int64  \n",
            " 3   Type                    5715 non-null   object \n",
            " 4   Country                 5694 non-null   object \n",
            " 5   Area                    5398 non-null   object \n",
            " 6   Location                5338 non-null   object \n",
            " 7   Activity                5276 non-null   object \n",
            " 8   Name                    5547 non-null   object \n",
            " 9   Unnamed: 9              28 non-null     object \n",
            " 10  Age                     3498 non-null   object \n",
            " 11  Injury                  5699 non-null   object \n",
            " 12  Fatal (Y/N)             5248 non-null   object \n",
            " 13  Time                    2971 non-null   object \n",
            " 14  Species                 3354 non-null   object \n",
            " 15  Investigator or Source  5702 non-null   object \n",
            " 16  pdf                     3066 non-null   object \n",
            " 17  original order          3062 non-null   float64\n",
            "dtypes: float64(1), int64(1), object(16)\n",
            "memory usage: 848.8+ KB\n"
          ],
          "name": "stdout"
        }
      ]
    },
    {
      "cell_type": "markdown",
      "metadata": {
        "id": "Z3bvLAn4URej"
      },
      "source": [
        "The dataset has now further been reduced to 5718 entries. We'll now evaluate the Type column which has 3 missing data"
      ]
    },
    {
      "cell_type": "code",
      "metadata": {
        "colab": {
          "base_uri": "https://localhost:8080/"
        },
        "id": "I8NG8dY9URel",
        "outputId": "613f1a25-6709-4e14-b31e-73e6f20d9ef0"
      },
      "source": [
        "#Evaluating the Type column\n",
        "\n",
        "df['Type'].value_counts(dropna=False)"
      ],
      "execution_count": 57,
      "outputs": [
        {
          "output_type": "execute_result",
          "data": {
            "text/plain": [
              "Unprovoked             4163\n",
              "Provoked                557\n",
              "Invalid                 481\n",
              "Sea Disaster            186\n",
              "Watercraft              113\n",
              "Boat                    109\n",
              "Boating                  92\n",
              "Questionable             10\n",
              "NaN                       3\n",
              "Under investigation       1\n",
              "Boatomg                   1\n",
              "Unverified                1\n",
              "Unconfirmed               1\n",
              "Name: Type, dtype: int64"
            ]
          },
          "metadata": {
            "tags": []
          },
          "execution_count": 57
        }
      ]
    },
    {
      "cell_type": "markdown",
      "metadata": {
        "id": "X5ahwV5tURen"
      },
      "source": [
        "Let's further explore the 3 missing values in Type column to see if we can unravel any possible information about them"
      ]
    },
    {
      "cell_type": "code",
      "metadata": {
        "colab": {
          "base_uri": "https://localhost:8080/",
          "height": 278
        },
        "id": "FGVV0_zZUReo",
        "outputId": "c6c066e7-8f12-47f8-a6cc-d3def5f7888f"
      },
      "source": [
        "df[df['Type'].isnull() == True]"
      ],
      "execution_count": 58,
      "outputs": [
        {
          "output_type": "execute_result",
          "data": {
            "text/html": [
              "<div>\n",
              "<style scoped>\n",
              "    .dataframe tbody tr th:only-of-type {\n",
              "        vertical-align: middle;\n",
              "    }\n",
              "\n",
              "    .dataframe tbody tr th {\n",
              "        vertical-align: top;\n",
              "    }\n",
              "\n",
              "    .dataframe thead th {\n",
              "        text-align: right;\n",
              "    }\n",
              "</style>\n",
              "<table border=\"1\" class=\"dataframe\">\n",
              "  <thead>\n",
              "    <tr style=\"text-align: right;\">\n",
              "      <th></th>\n",
              "      <th>Case Number</th>\n",
              "      <th>Date</th>\n",
              "      <th>Year</th>\n",
              "      <th>Type</th>\n",
              "      <th>Country</th>\n",
              "      <th>Area</th>\n",
              "      <th>Location</th>\n",
              "      <th>Activity</th>\n",
              "      <th>Name</th>\n",
              "      <th>Unnamed: 9</th>\n",
              "      <th>Age</th>\n",
              "      <th>Injury</th>\n",
              "      <th>Fatal (Y/N)</th>\n",
              "      <th>Time</th>\n",
              "      <th>Species</th>\n",
              "      <th>Investigator or Source</th>\n",
              "      <th>pdf</th>\n",
              "      <th>original order</th>\n",
              "    </tr>\n",
              "  </thead>\n",
              "  <tbody>\n",
              "    <tr>\n",
              "      <th>239</th>\n",
              "      <td>2017.09.15.a</td>\n",
              "      <td>15-Sep-2017</td>\n",
              "      <td>2017</td>\n",
              "      <td>NaN</td>\n",
              "      <td>SAMOA</td>\n",
              "      <td>Upolu Island</td>\n",
              "      <td>Nofoali’i</td>\n",
              "      <td>Fishing</td>\n",
              "      <td>male</td>\n",
              "      <td>NaN</td>\n",
              "      <td>NaN</td>\n",
              "      <td>Injuries to hands and legs</td>\n",
              "      <td>N</td>\n",
              "      <td>Night</td>\n",
              "      <td>NaN</td>\n",
              "      <td>Samoa Observer, 9/16/2017</td>\n",
              "      <td>NaN</td>\n",
              "      <td>NaN</td>\n",
              "    </tr>\n",
              "    <tr>\n",
              "      <th>537</th>\n",
              "      <td>2015.07.27</td>\n",
              "      <td>27-Jul-2015</td>\n",
              "      <td>2015</td>\n",
              "      <td>NaN</td>\n",
              "      <td>AUSTRALIA</td>\n",
              "      <td>Victoria</td>\n",
              "      <td>Tyrendarra Beach</td>\n",
              "      <td>Surfing</td>\n",
              "      <td>male</td>\n",
              "      <td>NaN</td>\n",
              "      <td>40</td>\n",
              "      <td>Injury to hand</td>\n",
              "      <td>NaN</td>\n",
              "      <td>NaN</td>\n",
              "      <td>NaN</td>\n",
              "      <td>NaN</td>\n",
              "      <td>NaN</td>\n",
              "      <td>NaN</td>\n",
              "    </tr>\n",
              "    <tr>\n",
              "      <th>5025</th>\n",
              "      <td>1936.09.11.R</td>\n",
              "      <td>Reported 11-Sep-1936</td>\n",
              "      <td>1936</td>\n",
              "      <td>NaN</td>\n",
              "      <td>VIETNAM</td>\n",
              "      <td>NaN</td>\n",
              "      <td>Saigon</td>\n",
              "      <td>Wreck of a sampam</td>\n",
              "      <td>8 crew</td>\n",
              "      <td>NaN</td>\n",
              "      <td>NaN</td>\n",
              "      <td>FATAL</td>\n",
              "      <td>Y</td>\n",
              "      <td>NaN</td>\n",
              "      <td>NaN</td>\n",
              "      <td>Lansing State Journal, 9/11/1936</td>\n",
              "      <td>NaN</td>\n",
              "      <td>NaN</td>\n",
              "    </tr>\n",
              "  </tbody>\n",
              "</table>\n",
              "</div>"
            ],
            "text/plain": [
              "       Case Number                  Date  ...  pdf original order\n",
              "239   2017.09.15.a           15-Sep-2017  ...  NaN            NaN\n",
              "537     2015.07.27           27-Jul-2015  ...  NaN            NaN\n",
              "5025  1936.09.11.R  Reported 11-Sep-1936  ...  NaN            NaN\n",
              "\n",
              "[3 rows x 18 columns]"
            ]
          },
          "metadata": {
            "tags": []
          },
          "execution_count": 58
        }
      ]
    },
    {
      "cell_type": "markdown",
      "metadata": {
        "id": "L5xMLJRWURer"
      },
      "source": [
        "After reviewing the 3 missing values from the Type column, there isn't enough information we could use to infer if the victims \n",
        "were attacked due to any sort of direct provocation on the shark. To guide our judgement here, It's imperative to understand the\n",
        "following terms:\n",
        "\n",
        "** Unprovoked Attack: An unprovoked attack is one where the victim was not interacting with or actively pursuing a shark such as\n",
        "a surfer being bitten while sitting on a surfboard. \n",
        "\n",
        "** Provoked Attack: A provoked attack is one where the victim was purposefully interacting with a shark, such as shark fishing or\n",
        "divers trying to touch a shark.\n",
        "\n",
        "Without any metadata available from the GSAF website, it's unclear what some of these 'Types' refer to. \n",
        "For example, 'Invalid'? Not sure what that means, along with 'Boatomg', 'Unverified' and others. For this analysis we will\n",
        "combine the following Types: 'Boat', 'Boating', 'Boatomg', and 'Watercraft'. They will all be changed to 'Boat'. \n",
        "\n",
        "Likewise, the 3 null values, plus 'Questionable', 'Unverified' and 'Under Investigation' will be combined with Unconfirmed"
      ]
    },
    {
      "cell_type": "code",
      "metadata": {
        "colab": {
          "base_uri": "https://localhost:8080/"
        },
        "id": "GN49ZRqEURev",
        "outputId": "5dacdf1a-e71b-4a8d-f3b1-59f250398bbc"
      },
      "source": [
        "df['Type'].replace({'Boating': 'Boat', 'Boatomg': 'Boat', 'Watercraft':'Boat',  'Questionable':'Unconfirmed', 'Unverified':'Unconfirmed','Under investigation':'Unconfirmed'}, inplace = True)\n",
        "\n",
        "# Replacing the null \"Type\" values with 'Unconfirmed' value\n",
        "\n",
        "df['Type'].fillna('Unconfirmed', inplace = True)\n",
        "df['Type'].value_counts()"
      ],
      "execution_count": 59,
      "outputs": [
        {
          "output_type": "execute_result",
          "data": {
            "text/plain": [
              "Unprovoked      4163\n",
              "Provoked         557\n",
              "Invalid          481\n",
              "Boat             315\n",
              "Sea Disaster     186\n",
              "Unconfirmed       16\n",
              "Name: Type, dtype: int64"
            ]
          },
          "metadata": {
            "tags": []
          },
          "execution_count": 59
        }
      ]
    },
    {
      "cell_type": "markdown",
      "metadata": {
        "id": "HTNpyGYRURe0"
      },
      "source": [
        "Not exactly sure what 'Invalid' means, perhaps it can probably be classified as an Unknown or Unconfirmed case"
      ]
    },
    {
      "cell_type": "code",
      "metadata": {
        "colab": {
          "base_uri": "https://localhost:8080/"
        },
        "id": "CLxyOI4CURe1",
        "outputId": "7091e15a-0ad1-4260-ccdd-1bdff398301a"
      },
      "source": [
        "# Calculate the percentage of each shark incident type\n",
        "df['Type'].value_counts(normalize=True)*100\n"
      ],
      "execution_count": 60,
      "outputs": [
        {
          "output_type": "execute_result",
          "data": {
            "text/plain": [
              "Unprovoked      72.805177\n",
              "Provoked         9.741168\n",
              "Invalid          8.412032\n",
              "Boat             5.508919\n",
              "Sea Disaster     3.252886\n",
              "Unconfirmed      0.279818\n",
              "Name: Type, dtype: float64"
            ]
          },
          "metadata": {
            "tags": []
          },
          "execution_count": 60
        }
      ]
    },
    {
      "cell_type": "markdown",
      "metadata": {
        "id": "WeaYRYJdURe3"
      },
      "source": [
        "Since the year 1900 we've had sharks attack its vitcims unprovoked 72.8% of the time. Shark attack due to provocation occured 9.7% of the time. Boat and other water activities led to shark attack 5.5% of the time. More so, shark attack due to Sea diaster or accident is quite low with 3.3% incidence rate.\n",
        "There are 0.1% unconfirmed case; however, if we're to presume that Invalid = Unconfirmed, then it's safe to say that there are 8.6% unconfirmed shark attack cases since 1900"
      ]
    },
    {
      "cell_type": "code",
      "metadata": {
        "colab": {
          "base_uri": "https://localhost:8080/",
          "height": 265
        },
        "id": "Nuiwu29pURe5",
        "outputId": "02ee94b0-a07d-4dd9-ace4-e7d39c31df00"
      },
      "source": [
        "plt.hist(df['Type'])\n",
        "plt.show()"
      ],
      "execution_count": 61,
      "outputs": [
        {
          "output_type": "display_data",
          "data": {
            "image/png": "[encoded data removed]",
            "text/plain": [
              "<Figure size 432x288 with 1 Axes>"
            ]
          },
          "metadata": {
            "tags": [],
            "needs_background": "light"
          }
        }
      ]
    },
    {
      "cell_type": "markdown",
      "metadata": {
        "id": "LGWqU1AYURe6"
      },
      "source": [
        "## Fatality Since 1900\n",
        "\n",
        "we'll evaluate human fatality from shark attack since 1900"
      ]
    },
    {
      "cell_type": "code",
      "metadata": {
        "colab": {
          "base_uri": "https://localhost:8080/"
        },
        "id": "FTuy8XgxURe7",
        "outputId": "21a845a6-2186-41d1-d60a-3367a538cf81"
      },
      "source": [
        "df['Fatal (Y/N)'].value_counts()"
      ],
      "execution_count": 62,
      "outputs": [
        {
          "output_type": "execute_result",
          "data": {
            "text/plain": [
              "N          4151\n",
              "Y          1038\n",
              "UNKNOWN      55\n",
              "F             2\n",
              "M             1\n",
              "2017          1\n",
              "Name: Fatal (Y/N), dtype: int64"
            ]
          },
          "metadata": {
            "tags": []
          },
          "execution_count": 62
        }
      ]
    },
    {
      "cell_type": "markdown",
      "metadata": {
        "id": "BIQFGyjvURe9"
      },
      "source": [
        "The top 2 values are as they should be (Y or N). Ordinarily, we're suppose to have just 'Y' (Yes), 'N' (No), and perhaps UNKNOWN (for unidentified fatality case) as entries in the Fatal (Y/N) column.\n",
        "\n",
        "However, we have 3 errorneous entries such as: 'F' and 'M' -- which I suppose could be the gender of victims fattaly attacked by sharks, and '2017' which could be the year a shark attack occured. These 3 values are all misfits in that column, so we'll have to evaluate all the affected rows just to see if anything stands out, otherwise we'll convert them to 'UNKNOWN'."
      ]
    },
    {
      "cell_type": "code",
      "metadata": {
        "colab": {
          "base_uri": "https://localhost:8080/",
          "height": 516
        },
        "id": "rChGgMi_URe-",
        "outputId": "1bf2aae9-4aa3-4a02-be8c-361eed4ac1c7"
      },
      "source": [
        "df[(df['Fatal (Y/N)'] == 'F') | (df['Fatal (Y/N)'] == 'M') | (df['Fatal (Y/N)'] == '2017')]"
      ],
      "execution_count": 63,
      "outputs": [
        {
          "output_type": "execute_result",
          "data": {
            "text/html": [
              "<div>\n",
              "<style scoped>\n",
              "    .dataframe tbody tr th:only-of-type {\n",
              "        vertical-align: middle;\n",
              "    }\n",
              "\n",
              "    .dataframe tbody tr th {\n",
              "        vertical-align: top;\n",
              "    }\n",
              "\n",
              "    .dataframe thead th {\n",
              "        text-align: right;\n",
              "    }\n",
              "</style>\n",
              "<table border=\"1\" class=\"dataframe\">\n",
              "  <thead>\n",
              "    <tr style=\"text-align: right;\">\n",
              "      <th></th>\n",
              "      <th>Case Number</th>\n",
              "      <th>Date</th>\n",
              "      <th>Year</th>\n",
              "      <th>Type</th>\n",
              "      <th>Country</th>\n",
              "      <th>Area</th>\n",
              "      <th>Location</th>\n",
              "      <th>Activity</th>\n",
              "      <th>Name</th>\n",
              "      <th>Unnamed: 9</th>\n",
              "      <th>Age</th>\n",
              "      <th>Injury</th>\n",
              "      <th>Fatal (Y/N)</th>\n",
              "      <th>Time</th>\n",
              "      <th>Species</th>\n",
              "      <th>Investigator or Source</th>\n",
              "      <th>pdf</th>\n",
              "      <th>original order</th>\n",
              "    </tr>\n",
              "  </thead>\n",
              "  <tbody>\n",
              "    <tr>\n",
              "      <th>17</th>\n",
              "      <td>2019.12.12</td>\n",
              "      <td>12-Dec-2019</td>\n",
              "      <td>2019</td>\n",
              "      <td>Unconfirmed</td>\n",
              "      <td>REUNION ISLAND</td>\n",
              "      <td>NaN</td>\n",
              "      <td>NaN</td>\n",
              "      <td>Kayaking</td>\n",
              "      <td>NaN</td>\n",
              "      <td>M</td>\n",
              "      <td>70</td>\n",
              "      <td>Partial remains recovered 12/26/2019 from shark</td>\n",
              "      <td>F</td>\n",
              "      <td>NaN</td>\n",
              "      <td>3.4 m tiger shark</td>\n",
              "      <td>Clicanoo, 12/27/2019</td>\n",
              "      <td>2019.12.12-ReunionIsland.pdf</td>\n",
              "      <td>6487.0</td>\n",
              "    </tr>\n",
              "    <tr>\n",
              "      <th>22</th>\n",
              "      <td>2019.11.23</td>\n",
              "      <td>23-Nov-2019</td>\n",
              "      <td>2019</td>\n",
              "      <td>Unconfirmed</td>\n",
              "      <td>AUSTRALIA</td>\n",
              "      <td>Queensland</td>\n",
              "      <td>Elliot Head, near Bundaberg.</td>\n",
              "      <td>Spearfishing</td>\n",
              "      <td>Andrew Page</td>\n",
              "      <td>M</td>\n",
              "      <td>38</td>\n",
              "      <td>Believed to have drowned. Partial remains wash...</td>\n",
              "      <td>F</td>\n",
              "      <td>NaN</td>\n",
              "      <td>NaN</td>\n",
              "      <td>B. Myatt, GSAF</td>\n",
              "      <td>2019.11.23-Page.pdf</td>\n",
              "      <td>6482.0</td>\n",
              "    </tr>\n",
              "    <tr>\n",
              "      <th>440</th>\n",
              "      <td>2016.04.18.b</td>\n",
              "      <td>18-Apr-2016</td>\n",
              "      <td>2016</td>\n",
              "      <td>Provoked</td>\n",
              "      <td>FRENCH POLYNESIA</td>\n",
              "      <td>Tuamotos</td>\n",
              "      <td>Makemo Atoll</td>\n",
              "      <td>Spearfishing</td>\n",
              "      <td>Hoata Iotua</td>\n",
              "      <td>NaN</td>\n",
              "      <td>22</td>\n",
              "      <td>Laceration to knee by speared shark PROVOKED I...</td>\n",
              "      <td>M</td>\n",
              "      <td>Morning</td>\n",
              "      <td>Grey reef shark, 2 m</td>\n",
              "      <td>TNTV News, 4/19/2016</td>\n",
              "      <td>NaN</td>\n",
              "      <td>NaN</td>\n",
              "    </tr>\n",
              "    <tr>\n",
              "      <th>941</th>\n",
              "      <td>2012.06.10</td>\n",
              "      <td>10-Jun-2012</td>\n",
              "      <td>2012</td>\n",
              "      <td>Provoked</td>\n",
              "      <td>ITALY</td>\n",
              "      <td>Sardinia</td>\n",
              "      <td>Muravera</td>\n",
              "      <td>Attempting to rescue an injured &amp; beached shark</td>\n",
              "      <td>Giorgio Zara</td>\n",
              "      <td>NaN</td>\n",
              "      <td>57</td>\n",
              "      <td>Lower left leg injured PROVOKED ACCIDENT</td>\n",
              "      <td>2017</td>\n",
              "      <td>Morning</td>\n",
              "      <td>Blue shark, 2.5m</td>\n",
              "      <td>D. Puddo, 6/11/2012</td>\n",
              "      <td>NaN</td>\n",
              "      <td>NaN</td>\n",
              "    </tr>\n",
              "  </tbody>\n",
              "</table>\n",
              "</div>"
            ],
            "text/plain": [
              "      Case Number         Date  ...                           pdf original order\n",
              "17     2019.12.12  12-Dec-2019  ...  2019.12.12-ReunionIsland.pdf         6487.0\n",
              "22     2019.11.23  23-Nov-2019  ...           2019.11.23-Page.pdf         6482.0\n",
              "440  2016.04.18.b  18-Apr-2016  ...                           NaN            NaN\n",
              "941    2012.06.10  10-Jun-2012  ...                           NaN            NaN\n",
              "\n",
              "[4 rows x 18 columns]"
            ]
          },
          "metadata": {
            "tags": []
          },
          "execution_count": 63
        }
      ]
    },
    {
      "cell_type": "markdown",
      "metadata": {
        "id": "Nu77BkIVURfD"
      },
      "source": [
        "By investigating the 'Injury' column, we can deduce that were 2 fatal and 2 non fatal incidence.\n",
        "\n",
        "The victim on row 22 was believed to have drowned due to a shark attack; although his remains wasn't recovered.\n",
        "The victim on row 17 died and his partial remains was recovered from the shark that attacked him.\n",
        "The victims on row 440 and 941 were both attacked by a shark but they escaped death with severe injury.\n",
        "\n",
        "We'll change row 17 and 22 to \"Y\", and 440 & 941 to \"N\". Also, we will change the 470 null values in the Fatal (Y/N) column to \"UNKNOWN\"."
      ]
    },
    {
      "cell_type": "code",
      "metadata": {
        "colab": {
          "base_uri": "https://localhost:8080/"
        },
        "id": "2faJVFaaURfE",
        "outputId": "ee003b26-9e9e-493e-fb3a-2d04571c2c3a"
      },
      "source": [
        "df['Fatal (Y/N)'].replace({'M':'N', '2017': 'N'}, inplace = True)\n",
        "df.at[17, 'Fatal (Y/N)'] = 'Y'\n",
        "df.at[22, 'Fatal (Y/N)'] = 'Y'\n",
        "df['Fatal (Y/N)'].fillna('UNKNOWN', inplace = True)\n",
        "df['Fatal (Y/N)'].value_counts(dropna=False)"
      ],
      "execution_count": 64,
      "outputs": [
        {
          "output_type": "execute_result",
          "data": {
            "text/plain": [
              "N          4153\n",
              "Y          1040\n",
              "UNKNOWN     525\n",
              "Name: Fatal (Y/N), dtype: int64"
            ]
          },
          "metadata": {
            "tags": []
          },
          "execution_count": 64
        }
      ]
    },
    {
      "cell_type": "code",
      "metadata": {
        "colab": {
          "base_uri": "https://localhost:8080/",
          "height": 265
        },
        "id": "GGG5oxGOURfG",
        "outputId": "1e8a105e-1047-4e30-9e90-86affa6a796f"
      },
      "source": [
        "#Vizualize Fatality\n",
        "\n",
        "plt.hist(df['Fatal (Y/N)'])\n",
        "plt.show()"
      ],
      "execution_count": 65,
      "outputs": [
        {
          "output_type": "display_data",
          "data": {
            "image/png": "[encoded data removed]",
            "text/plain": [
              "<Figure size 432x288 with 1 Axes>"
            ]
          },
          "metadata": {
            "tags": [],
            "needs_background": "light"
          }
        }
      ]
    },
    {
      "cell_type": "code",
      "metadata": {
        "colab": {
          "base_uri": "https://localhost:8080/"
        },
        "id": "cCpCX7cKURfI",
        "outputId": "443b43f6-afb9-4aaf-98d0-0e4110918165"
      },
      "source": [
        "df['Fatal (Y/N)'].value_counts(normalize = True)"
      ],
      "execution_count": 66,
      "outputs": [
        {
          "output_type": "execute_result",
          "data": {
            "text/plain": [
              "N          0.726303\n",
              "Y          0.181882\n",
              "UNKNOWN    0.091815\n",
              "Name: Fatal (Y/N), dtype: float64"
            ]
          },
          "metadata": {
            "tags": []
          },
          "execution_count": 66
        }
      ]
    },
    {
      "cell_type": "markdown",
      "metadata": {
        "id": "7qIUiHbdmijo"
      },
      "source": [
        "Since 1900, aproximately 73% of shark attacks have been Non-Fatal, 18% of the attacks were Fatal, and while about 9% are unknown. Let's see if fatality rate is dependent upon the country."
      ]
    },
    {
      "cell_type": "markdown",
      "metadata": {
        "id": "N_dTBBuGqyMZ"
      },
      "source": [
        "**Fatality by Country**\n",
        "\n",
        "Let's evaluate if fatal shark attacks are pevalent some certain countries than others. Do certain countries have a higher fatality occurrence than others? We'll explore the fatalities of the top 30 countries. \n",
        "\n",
        "Unless we review the Fatal (Y/N) column line by line in more detail, we won't be able to accurately identify which of the 525 'UNKNOWN' entries should be marked as fatal or non-fatal. Therefore, we will slightly intoduce our bias by underestimating all 525 'UNKNOWN' entries; which is about 20% of the fatality data, by assuming all to be non-fatal.\n",
        "\n",
        "We will start by making a new column, named 'Fatal' and fill it with a 1, if fatal, and 0 if non-fatal or unknown."
      ]
    },
    {
      "cell_type": "code",
      "metadata": {
        "colab": {
          "base_uri": "https://localhost:8080/"
        },
        "id": "YxtC9unIq3ue",
        "outputId": "9e0a2abe-d6d5-4265-eeb9-18e39db640f5"
      },
      "source": [
        "## Make a new column and map a 'Y' from Fatal to 1 and 'N' & 'UNKNOWN' to 0\n",
        "df['Fatal'] = df['Fatal (Y/N)'].map({'Y': 1, 'N': 0, 'UNKNOWN': 0})\n",
        "df['Fatal'].head(10)"
      ],
      "execution_count": 67,
      "outputs": [
        {
          "output_type": "execute_result",
          "data": {
            "text/plain": [
              "0    0\n",
              "1    0\n",
              "2    0\n",
              "3    0\n",
              "4    0\n",
              "5    0\n",
              "6    0\n",
              "7    1\n",
              "8    0\n",
              "9    1\n",
              "Name: Fatal, dtype: int64"
            ]
          },
          "metadata": {
            "tags": []
          },
          "execution_count": 67
        }
      ]
    },
    {
      "cell_type": "code",
      "metadata": {
        "colab": {
          "base_uri": "https://localhost:8080/"
        },
        "id": "CzWIjwlKmf4j",
        "outputId": "9750b262-0222-45c7-c26b-f3d3bbf30a61"
      },
      "source": [
        "#Evaluate the new column to confirm that the counts are correct\n",
        "df['Fatal'].value_counts()"
      ],
      "execution_count": 68,
      "outputs": [
        {
          "output_type": "execute_result",
          "data": {
            "text/plain": [
              "0    4678\n",
              "1    1040\n",
              "Name: Fatal, dtype: int64"
            ]
          },
          "metadata": {
            "tags": []
          },
          "execution_count": 68
        }
      ]
    },
    {
      "cell_type": "markdown",
      "metadata": {
        "id": "tZnlYev31DV2"
      },
      "source": [
        "The new 'Fatal' column has the correct number of fatalities, at 1040. Adding the original non-fatalities (4153) and unknowns (525) from the original 'Fatal (Y/N)' column, we get the same number as the new column (4678)"
      ]
    },
    {
      "cell_type": "code",
      "metadata": {
        "colab": {
          "base_uri": "https://localhost:8080/"
        },
        "id": "wmwkAv5w1CkY",
        "outputId": "1a4cacfa-a64e-4175-84ff-031f0bf3ac09"
      },
      "source": [
        "# Create a dataframe that gets the sum of each incidents that resulted to fatality by country\n",
        "Fatal_sum = df.groupby('Country')['Fatal'].sum()\n",
        "Fatal_sum_df = pd.DataFrame(Fatal_sum)\n",
        "Fatal_sum_df.columns = ['Total Fatal']\n",
        "Fatal_sum_df.reset_index(inplace=True)\n",
        "\n",
        "# Create a count dataframe to get the number of incidents that occured in each country\n",
        "count = df.groupby('Country')['Fatal (Y/N)'].count()\n",
        "count_df = pd.DataFrame(count)\n",
        "count_df.columns = ['Total Attack']\n",
        "count_df.reset_index(inplace=True)\n",
        "\n",
        "# Merge the fatality and count dataframes\n",
        "Fatality_df = pd.merge(count_df, Fatal_sum_df, how = 'left', on = 'Country')\n",
        "print(Fatality_df) "
      ],
      "execution_count": 69,
      "outputs": [
        {
          "output_type": "stream",
          "text": [
            "                        Country  Total Attack  Total Fatal\n",
            "0             ADMIRALTY ISLANDS             1            0\n",
            "1                AMERICAN SAMOA             3            3\n",
            "2    ANDAMAN / NICOBAR ISLANDAS             1            1\n",
            "3                        ANGOLA             1            0\n",
            "4                       ANTIGUA             1            0\n",
            "..                          ...           ...          ...\n",
            "167                     VANUATU            11            7\n",
            "168                   VENEZUELA             9            3\n",
            "169                     VIETNAM            12            1\n",
            "170               WESTERN SAMOA             1            1\n",
            "171                       YEMEN             4            2\n",
            "\n",
            "[172 rows x 3 columns]\n"
          ],
          "name": "stdout"
        }
      ]
    },
    {
      "cell_type": "code",
      "metadata": {
        "colab": {
          "base_uri": "https://localhost:8080/"
        },
        "id": "UdVE555cUkFt",
        "outputId": "4c82b62e-eab1-4c09-dc14-60c543a163f5"
      },
      "source": [
        "# Create a new column (Fatality Rate) and Calcualate the fatility rate by country\n",
        "Fatality_df['Fatality Rate'] = Fatality_df['Total Fatal'] / Fatality_df['Total Attack']\n",
        "print(Fatality_df)"
      ],
      "execution_count": 70,
      "outputs": [
        {
          "output_type": "stream",
          "text": [
            "                        Country  Total Attack  Total Fatal  Fatality Rate\n",
            "0             ADMIRALTY ISLANDS             1            0       0.000000\n",
            "1                AMERICAN SAMOA             3            3       1.000000\n",
            "2    ANDAMAN / NICOBAR ISLANDAS             1            1       1.000000\n",
            "3                        ANGOLA             1            0       0.000000\n",
            "4                       ANTIGUA             1            0       0.000000\n",
            "..                          ...           ...          ...            ...\n",
            "167                     VANUATU            11            7       0.636364\n",
            "168                   VENEZUELA             9            3       0.333333\n",
            "169                     VIETNAM            12            1       0.083333\n",
            "170               WESTERN SAMOA             1            1       1.000000\n",
            "171                       YEMEN             4            2       0.500000\n",
            "\n",
            "[172 rows x 4 columns]\n"
          ],
          "name": "stdout"
        }
      ]
    },
    {
      "cell_type": "markdown",
      "metadata": {
        "id": "6NP2CkrLUQm4"
      },
      "source": [
        "Let's now check the fatality for the top 30 countries"
      ]
    },
    {
      "cell_type": "code",
      "metadata": {
        "colab": {
          "base_uri": "https://localhost:8080/"
        },
        "id": "sotHxtZS4CNe",
        "outputId": "d3704e9d-2f1c-423f-8fe1-005c0737b381"
      },
      "source": [
        "# Isolate the top 30 countries attacked by shark based on 'Total Attack' column\n",
        "Top30 = Fatality_df.sort_values(by=['Total Attack'], ascending=False, ignore_index=True)[:30]\n",
        "print(Top30)"
      ],
      "execution_count": 71,
      "outputs": [
        {
          "output_type": "stream",
          "text": [
            "             Country  Total Attack  Total Fatal  Fatality Rate\n",
            "0                USA          2161          133       0.061546\n",
            "1          AUSTRALIA          1216          223       0.183388\n",
            "2       SOUTH AFRICA           555           87       0.156757\n",
            "3   PAPUA NEW GUINEA           131           55       0.419847\n",
            "4             BRAZIL           109           35       0.321101\n",
            "5            BAHAMAS           106            6       0.056604\n",
            "6        NEW ZEALAND           104           12       0.115385\n",
            "7             MEXICO            84           36       0.428571\n",
            "8              ITALY            61            9       0.147541\n",
            "9        PHILIPPINES            58           33       0.568966\n",
            "10           REUNION            58           28       0.482759\n",
            "11     NEW CALEDONIA            54           17       0.314815\n",
            "12              FIJI            50           18       0.360000\n",
            "13        MOZAMBIQUE            41           18       0.439024\n",
            "14             EGYPT            34           10       0.294118\n",
            "15             SPAIN            33            3       0.090909\n",
            "16              CUBA            31           14       0.451613\n",
            "17             JAPAN            31           10       0.322581\n",
            "18            PANAMA            27           13       0.481481\n",
            "19           CROATIA            27           14       0.518519\n",
            "20   SOLOMON ISLANDS            26           11       0.423077\n",
            "21              IRAN            25           10       0.400000\n",
            "22         HONG KONG            24           17       0.708333\n",
            "23  FRENCH POLYNESIA            24            0       0.000000\n",
            "24         INDONESIA            19           11       0.578947\n",
            "25           JAMAICA            19            9       0.473684\n",
            "26        COSTA RICA            17            8       0.470588\n",
            "27             TONGA            16            4       0.250000\n",
            "28     PACIFIC OCEAN            15            5       0.333333\n",
            "29            GREECE            14            7       0.500000\n"
          ],
          "name": "stdout"
        }
      ]
    },
    {
      "cell_type": "code",
      "metadata": {
        "colab": {
          "base_uri": "https://localhost:8080/",
          "height": 979
        },
        "id": "yeuZRMxXLRet",
        "outputId": "c2d04324-a785-466d-e7cc-1f9f0faeb010"
      },
      "source": [
        "# Sorting the top 30 countries based on the shark incident fatality rate\n",
        "Top30.sort_values(by=['Fatality Rate'], ascending=False, ignore_index=True)"
      ],
      "execution_count": 72,
      "outputs": [
        {
          "output_type": "execute_result",
          "data": {
            "text/html": [
              "<div>\n",
              "<style scoped>\n",
              "    .dataframe tbody tr th:only-of-type {\n",
              "        vertical-align: middle;\n",
              "    }\n",
              "\n",
              "    .dataframe tbody tr th {\n",
              "        vertical-align: top;\n",
              "    }\n",
              "\n",
              "    .dataframe thead th {\n",
              "        text-align: right;\n",
              "    }\n",
              "</style>\n",
              "<table border=\"1\" class=\"dataframe\">\n",
              "  <thead>\n",
              "    <tr style=\"text-align: right;\">\n",
              "      <th></th>\n",
              "      <th>Country</th>\n",
              "      <th>Total Attack</th>\n",
              "      <th>Total Fatal</th>\n",
              "      <th>Fatality Rate</th>\n",
              "    </tr>\n",
              "  </thead>\n",
              "  <tbody>\n",
              "    <tr>\n",
              "      <th>0</th>\n",
              "      <td>HONG KONG</td>\n",
              "      <td>24</td>\n",
              "      <td>17</td>\n",
              "      <td>0.708333</td>\n",
              "    </tr>\n",
              "    <tr>\n",
              "      <th>1</th>\n",
              "      <td>INDONESIA</td>\n",
              "      <td>19</td>\n",
              "      <td>11</td>\n",
              "      <td>0.578947</td>\n",
              "    </tr>\n",
              "    <tr>\n",
              "      <th>2</th>\n",
              "      <td>PHILIPPINES</td>\n",
              "      <td>58</td>\n",
              "      <td>33</td>\n",
              "      <td>0.568966</td>\n",
              "    </tr>\n",
              "    <tr>\n",
              "      <th>3</th>\n",
              "      <td>CROATIA</td>\n",
              "      <td>27</td>\n",
              "      <td>14</td>\n",
              "      <td>0.518519</td>\n",
              "    </tr>\n",
              "    <tr>\n",
              "      <th>4</th>\n",
              "      <td>GREECE</td>\n",
              "      <td>14</td>\n",
              "      <td>7</td>\n",
              "      <td>0.500000</td>\n",
              "    </tr>\n",
              "    <tr>\n",
              "      <th>5</th>\n",
              "      <td>REUNION</td>\n",
              "      <td>58</td>\n",
              "      <td>28</td>\n",
              "      <td>0.482759</td>\n",
              "    </tr>\n",
              "    <tr>\n",
              "      <th>6</th>\n",
              "      <td>PANAMA</td>\n",
              "      <td>27</td>\n",
              "      <td>13</td>\n",
              "      <td>0.481481</td>\n",
              "    </tr>\n",
              "    <tr>\n",
              "      <th>7</th>\n",
              "      <td>JAMAICA</td>\n",
              "      <td>19</td>\n",
              "      <td>9</td>\n",
              "      <td>0.473684</td>\n",
              "    </tr>\n",
              "    <tr>\n",
              "      <th>8</th>\n",
              "      <td>COSTA RICA</td>\n",
              "      <td>17</td>\n",
              "      <td>8</td>\n",
              "      <td>0.470588</td>\n",
              "    </tr>\n",
              "    <tr>\n",
              "      <th>9</th>\n",
              "      <td>CUBA</td>\n",
              "      <td>31</td>\n",
              "      <td>14</td>\n",
              "      <td>0.451613</td>\n",
              "    </tr>\n",
              "    <tr>\n",
              "      <th>10</th>\n",
              "      <td>MOZAMBIQUE</td>\n",
              "      <td>41</td>\n",
              "      <td>18</td>\n",
              "      <td>0.439024</td>\n",
              "    </tr>\n",
              "    <tr>\n",
              "      <th>11</th>\n",
              "      <td>MEXICO</td>\n",
              "      <td>84</td>\n",
              "      <td>36</td>\n",
              "      <td>0.428571</td>\n",
              "    </tr>\n",
              "    <tr>\n",
              "      <th>12</th>\n",
              "      <td>SOLOMON ISLANDS</td>\n",
              "      <td>26</td>\n",
              "      <td>11</td>\n",
              "      <td>0.423077</td>\n",
              "    </tr>\n",
              "    <tr>\n",
              "      <th>13</th>\n",
              "      <td>PAPUA NEW GUINEA</td>\n",
              "      <td>131</td>\n",
              "      <td>55</td>\n",
              "      <td>0.419847</td>\n",
              "    </tr>\n",
              "    <tr>\n",
              "      <th>14</th>\n",
              "      <td>IRAN</td>\n",
              "      <td>25</td>\n",
              "      <td>10</td>\n",
              "      <td>0.400000</td>\n",
              "    </tr>\n",
              "    <tr>\n",
              "      <th>15</th>\n",
              "      <td>FIJI</td>\n",
              "      <td>50</td>\n",
              "      <td>18</td>\n",
              "      <td>0.360000</td>\n",
              "    </tr>\n",
              "    <tr>\n",
              "      <th>16</th>\n",
              "      <td>PACIFIC OCEAN</td>\n",
              "      <td>15</td>\n",
              "      <td>5</td>\n",
              "      <td>0.333333</td>\n",
              "    </tr>\n",
              "    <tr>\n",
              "      <th>17</th>\n",
              "      <td>JAPAN</td>\n",
              "      <td>31</td>\n",
              "      <td>10</td>\n",
              "      <td>0.322581</td>\n",
              "    </tr>\n",
              "    <tr>\n",
              "      <th>18</th>\n",
              "      <td>BRAZIL</td>\n",
              "      <td>109</td>\n",
              "      <td>35</td>\n",
              "      <td>0.321101</td>\n",
              "    </tr>\n",
              "    <tr>\n",
              "      <th>19</th>\n",
              "      <td>NEW CALEDONIA</td>\n",
              "      <td>54</td>\n",
              "      <td>17</td>\n",
              "      <td>0.314815</td>\n",
              "    </tr>\n",
              "    <tr>\n",
              "      <th>20</th>\n",
              "      <td>EGYPT</td>\n",
              "      <td>34</td>\n",
              "      <td>10</td>\n",
              "      <td>0.294118</td>\n",
              "    </tr>\n",
              "    <tr>\n",
              "      <th>21</th>\n",
              "      <td>TONGA</td>\n",
              "      <td>16</td>\n",
              "      <td>4</td>\n",
              "      <td>0.250000</td>\n",
              "    </tr>\n",
              "    <tr>\n",
              "      <th>22</th>\n",
              "      <td>AUSTRALIA</td>\n",
              "      <td>1216</td>\n",
              "      <td>223</td>\n",
              "      <td>0.183388</td>\n",
              "    </tr>\n",
              "    <tr>\n",
              "      <th>23</th>\n",
              "      <td>SOUTH AFRICA</td>\n",
              "      <td>555</td>\n",
              "      <td>87</td>\n",
              "      <td>0.156757</td>\n",
              "    </tr>\n",
              "    <tr>\n",
              "      <th>24</th>\n",
              "      <td>ITALY</td>\n",
              "      <td>61</td>\n",
              "      <td>9</td>\n",
              "      <td>0.147541</td>\n",
              "    </tr>\n",
              "    <tr>\n",
              "      <th>25</th>\n",
              "      <td>NEW ZEALAND</td>\n",
              "      <td>104</td>\n",
              "      <td>12</td>\n",
              "      <td>0.115385</td>\n",
              "    </tr>\n",
              "    <tr>\n",
              "      <th>26</th>\n",
              "      <td>SPAIN</td>\n",
              "      <td>33</td>\n",
              "      <td>3</td>\n",
              "      <td>0.090909</td>\n",
              "    </tr>\n",
              "    <tr>\n",
              "      <th>27</th>\n",
              "      <td>USA</td>\n",
              "      <td>2161</td>\n",
              "      <td>133</td>\n",
              "      <td>0.061546</td>\n",
              "    </tr>\n",
              "    <tr>\n",
              "      <th>28</th>\n",
              "      <td>BAHAMAS</td>\n",
              "      <td>106</td>\n",
              "      <td>6</td>\n",
              "      <td>0.056604</td>\n",
              "    </tr>\n",
              "    <tr>\n",
              "      <th>29</th>\n",
              "      <td>FRENCH POLYNESIA</td>\n",
              "      <td>24</td>\n",
              "      <td>0</td>\n",
              "      <td>0.000000</td>\n",
              "    </tr>\n",
              "  </tbody>\n",
              "</table>\n",
              "</div>"
            ],
            "text/plain": [
              "             Country  Total Attack  Total Fatal  Fatality Rate\n",
              "0          HONG KONG            24           17       0.708333\n",
              "1          INDONESIA            19           11       0.578947\n",
              "2        PHILIPPINES            58           33       0.568966\n",
              "3            CROATIA            27           14       0.518519\n",
              "4             GREECE            14            7       0.500000\n",
              "5            REUNION            58           28       0.482759\n",
              "6             PANAMA            27           13       0.481481\n",
              "7            JAMAICA            19            9       0.473684\n",
              "8         COSTA RICA            17            8       0.470588\n",
              "9               CUBA            31           14       0.451613\n",
              "10        MOZAMBIQUE            41           18       0.439024\n",
              "11            MEXICO            84           36       0.428571\n",
              "12   SOLOMON ISLANDS            26           11       0.423077\n",
              "13  PAPUA NEW GUINEA           131           55       0.419847\n",
              "14              IRAN            25           10       0.400000\n",
              "15              FIJI            50           18       0.360000\n",
              "16     PACIFIC OCEAN            15            5       0.333333\n",
              "17             JAPAN            31           10       0.322581\n",
              "18            BRAZIL           109           35       0.321101\n",
              "19     NEW CALEDONIA            54           17       0.314815\n",
              "20             EGYPT            34           10       0.294118\n",
              "21             TONGA            16            4       0.250000\n",
              "22         AUSTRALIA          1216          223       0.183388\n",
              "23      SOUTH AFRICA           555           87       0.156757\n",
              "24             ITALY            61            9       0.147541\n",
              "25       NEW ZEALAND           104           12       0.115385\n",
              "26             SPAIN            33            3       0.090909\n",
              "27               USA          2161          133       0.061546\n",
              "28           BAHAMAS           106            6       0.056604\n",
              "29  FRENCH POLYNESIA            24            0       0.000000"
            ]
          },
          "metadata": {
            "tags": []
          },
          "execution_count": 72
        }
      ]
    },
    {
      "cell_type": "markdown",
      "metadata": {
        "id": "Jh3vkDvabjeH"
      },
      "source": [
        "Of the top 30 countries in terms of number of recorded attacks, Hong Kong has the highest fatality rate at about 71%, followed by Indonesia (58%) and Philippines (57%). French Polynesia, with 24 attacks, had the lowest fatality rate at 0%. \n",
        "\n",
        "With the highest number of attacks (2161), the United States had the third lowest fatality rate at just 6%.\n",
        "\n",
        "An interesting observation from this dataset is, only 3 countries from Africa are in the top 30 - South Africa (555), Mozambique (41), and Egypt(34). I expected that a few other countries from Africa could be on this list. Could it be that sharks are endangered in most parts of Africa? Or perhaps, it could be the case of shark attacks incidence being under reported in Africa.\n",
        "\n"
      ]
    },
    {
      "cell_type": "code",
      "metadata": {
        "colab": {
          "base_uri": "https://localhost:8080/",
          "height": 660
        },
        "id": "WPSabU3wXfYQ",
        "outputId": "96baf3c5-dc5a-4616-de54-459d6693bace"
      },
      "source": [
        "# Create a chart with the number of attacks and fatality rates of the top 30 countries for visualization purposes\n",
        "\n",
        "fig,ax = plt.subplots(figsize=(10,10))\n",
        "ax.barh(Top30['Country'], Top30['Fatality Rate'],color=\"red\", alpha=0.8, height=-0.4, align='edge')\n",
        "ax.set_xlabel(\"Fatality Rate\",color=\"red\",fontsize=14)\n",
        "ax.set_ylabel(\"Country\",fontsize=14)\n",
        "ax2=ax.twiny()\n",
        "ax2.barh(Top30['Country'], Top30['Total Attack'], color=\"blue\", alpha=0.8, height=0.4, align='edge')\n",
        "ax2.set_xlabel(\"# of Shark Attacks\",color=\"blue\",fontsize=14)\n",
        "plt.title('# of Shark Attacks and Fatality Rates by Country', fontsize=16)\n",
        "plt.show()"
      ],
      "execution_count": 73,
      "outputs": [
        {
          "output_type": "display_data",
          "data": {
            "image/png": "[encoded data removed]",
            "text/plain": [
              "<Figure size 720x720 with 2 Axes>"
            ]
          },
          "metadata": {
            "tags": [],
            "needs_background": "light"
          }
        }
      ]
    },
    {
      "cell_type": "markdown",
      "metadata": {
        "id": "9aOE9fktF4a4"
      },
      "source": [
        "**Shark Species Involvement**\n",
        "\n",
        "At first glance, the GSAF dataset had quite a variety of values in the shark species column. Let's look to see if there are any patterns. First, we'll take a look at the data for South Africa, since it's the African country with the highest recored attacks. There have been over 500 attacks recorded and about a 16% fatality rate."
      ]
    },
    {
      "cell_type": "code",
      "metadata": {
        "colab": {
          "base_uri": "https://localhost:8080/"
        },
        "id": "6p6y8WrGisDy",
        "outputId": "b8db3760-b591-42f3-933b-82c036ce5f1b"
      },
      "source": [
        "# Isolate the South Africa dataset\n",
        "SA = df[df['Country'] == 'SOUTH AFRICA']\n",
        "SA.info()\n"
      ],
      "execution_count": 74,
      "outputs": [
        {
          "output_type": "stream",
          "text": [
            "<class 'pandas.core.frame.DataFrame'>\n",
            "Int64Index: 555 entries, 13 to 5721\n",
            "Data columns (total 19 columns):\n",
            " #   Column                  Non-Null Count  Dtype  \n",
            "---  ------                  --------------  -----  \n",
            " 0   Case Number             555 non-null    object \n",
            " 1   Date                    555 non-null    object \n",
            " 2   Year                    555 non-null    int64  \n",
            " 3   Type                    555 non-null    object \n",
            " 4   Country                 555 non-null    object \n",
            " 5   Area                    550 non-null    object \n",
            " 6   Location                547 non-null    object \n",
            " 7   Activity                515 non-null    object \n",
            " 8   Name                    544 non-null    object \n",
            " 9   Unnamed: 9              2 non-null      object \n",
            " 10  Age                     366 non-null    object \n",
            " 11  Injury                  554 non-null    object \n",
            " 12  Fatal (Y/N)             555 non-null    object \n",
            " 13  Time                    347 non-null    object \n",
            " 14  Species                 417 non-null    object \n",
            " 15  Investigator or Source  553 non-null    object \n",
            " 16  pdf                     373 non-null    object \n",
            " 17  original order          373 non-null    float64\n",
            " 18  Fatal                   555 non-null    int64  \n",
            "dtypes: float64(1), int64(2), object(16)\n",
            "memory usage: 86.7+ KB\n"
          ],
          "name": "stdout"
        }
      ]
    },
    {
      "cell_type": "code",
      "metadata": {
        "colab": {
          "base_uri": "https://localhost:8080/"
        },
        "id": "R6Bt64Om-ujK",
        "outputId": "5f638027-750f-49ee-d27c-7223179fb220"
      },
      "source": [
        "# list the first 20 records for 'Species'\n",
        "print(SA['Species '].head(20))"
      ],
      "execution_count": 75,
      "outputs": [
        {
          "output_type": "stream",
          "text": [
            "13                                                NaN\n",
            "28                                   White shark, 4 m\n",
            "66                              White shark, juvenile\n",
            "100                                       2.5 m shark\n",
            "105                                               NaN\n",
            "119                                   White shark, 3m\n",
            "166                                               NaN\n",
            "176                                White shark, 2.5 m\n",
            "186                                       White shark\n",
            "191                                    Blacktip shark\n",
            "229               Death may have been due to drowning\n",
            "238                                               NaN\n",
            "245                                               NaN\n",
            "277                                White shark, 2.5 m\n",
            "301                                               NaN\n",
            "313    Shark involvement prior to death not confirmed\n",
            "333                                       Tiger shark\n",
            "347                                  White shark, 4 m\n",
            "413                                       White shark\n",
            "438                                       White shark\n",
            "Name: Species , dtype: object\n"
          ],
          "name": "stdout"
        }
      ]
    },
    {
      "cell_type": "markdown",
      "metadata": {
        "id": "p4TsiLTLRpl4"
      },
      "source": [
        "In the first 20 records for South Africa attacks, we can see 9 instances of a White shark being involved. However, the data is not formatted consistently. The good news is that \"White shark\" is consistently noted, sometimes with other information, such as approximate length. Now, let's take a look at the 'Species ' information for the USA."
      ]
    },
    {
      "cell_type": "code",
      "metadata": {
        "colab": {
          "base_uri": "https://localhost:8080/"
        },
        "id": "Yj7YrCNyP4fJ",
        "outputId": "ca5b78c6-9fd0-4499-b72c-1005bd5974fd"
      },
      "source": [
        "USA = df[df['Country'] == 'USA']\n",
        "print(USA['Species '].head(20))\n"
      ],
      "execution_count": 76,
      "outputs": [
        {
          "output_type": "stream",
          "text": [
            "0                 Tiger shark\n",
            "4                         NaN\n",
            "15                        NaN\n",
            "19        10'-12' tiger shark\n",
            "20    Juvenile blacktip shark\n",
            "26    4' to 5' blacktip shark\n",
            "31             4' to 5' shark\n",
            "34                        NaN\n",
            "36                        NaN\n",
            "37             Juvenile shark\n",
            "39             6' to 7' shark\n",
            "40                        NaN\n",
            "41                   2' shark\n",
            "42                        NaN\n",
            "43                        NaN\n",
            "45                Nurse shark\n",
            "46                        NaN\n",
            "47                 6.5' shark\n",
            "48                        NaN\n",
            "49                        NaN\n",
            "Name: Species , dtype: object\n"
          ],
          "name": "stdout"
        }
      ]
    },
    {
      "cell_type": "code",
      "metadata": {
        "colab": {
          "base_uri": "https://localhost:8080/"
        },
        "id": "GRRtgD31SHor",
        "outputId": "78cf1520-1659-4895-d15e-effe2cf2561c"
      },
      "source": [
        "USA.info()"
      ],
      "execution_count": 77,
      "outputs": [
        {
          "output_type": "stream",
          "text": [
            "<class 'pandas.core.frame.DataFrame'>\n",
            "Int64Index: 2161 entries, 0 to 5720\n",
            "Data columns (total 19 columns):\n",
            " #   Column                  Non-Null Count  Dtype  \n",
            "---  ------                  --------------  -----  \n",
            " 0   Case Number             2161 non-null   object \n",
            " 1   Date                    2161 non-null   object \n",
            " 2   Year                    2161 non-null   int64  \n",
            " 3   Type                    2161 non-null   object \n",
            " 4   Country                 2161 non-null   object \n",
            " 5   Area                    2159 non-null   object \n",
            " 6   Location                2124 non-null   object \n",
            " 7   Activity                2037 non-null   object \n",
            " 8   Name                    2131 non-null   object \n",
            " 9   Unnamed: 9              6 non-null      object \n",
            " 10  Age                     1545 non-null   object \n",
            " 11  Injury                  2156 non-null   object \n",
            " 12  Fatal (Y/N)             2161 non-null   object \n",
            " 13  Time                    1430 non-null   object \n",
            " 14  Species                 1313 non-null   object \n",
            " 15  Investigator or Source  2154 non-null   object \n",
            " 16  pdf                     1303 non-null   object \n",
            " 17  original order          1302 non-null   float64\n",
            " 18  Fatal                   2161 non-null   int64  \n",
            "dtypes: float64(1), int64(2), object(16)\n",
            "memory usage: 337.7+ KB\n"
          ],
          "name": "stdout"
        }
      ]
    },
    {
      "cell_type": "markdown",
      "metadata": {
        "id": "5Voxi8LESsQL"
      },
      "source": [
        "Of the 2161 records for the USA, only 1313 have actual information in the 'Species ' column. Of the first 20 records, only a few have a species listed. Let's remove the nulls from the USA data and re-look"
      ]
    },
    {
      "cell_type": "code",
      "metadata": {
        "colab": {
          "base_uri": "https://localhost:8080/"
        },
        "id": "rklsaJsJUBB8",
        "outputId": "0d255d73-5924-45ae-a172-716863f71463"
      },
      "source": [
        "# Isolate the non-null values for Species in the USA dataset\n",
        "usa = USA[USA['Species '].isnull() == False]\n",
        "print(usa['Species '].head(20))"
      ],
      "execution_count": 78,
      "outputs": [
        {
          "output_type": "stream",
          "text": [
            "0                                           Tiger shark\n",
            "19                                  10'-12' tiger shark\n",
            "20                              Juvenile blacktip shark\n",
            "26                              4' to 5' blacktip shark\n",
            "31                                       4' to 5' shark\n",
            "37                                       Juvenile shark\n",
            "39                                       6' to 7' shark\n",
            "41                                             2' shark\n",
            "45                                          Nurse shark\n",
            "47                                           6.5' shark\n",
            "51                                     10' to 12' shark\n",
            "56                                   Blacktip shark, 5'\n",
            "60                            Blacktip or Spinner shark\n",
            "61                                      Sandtiger shark\n",
            "64                                            shark pup\n",
            "73                                 Bull shark, 4' to 5'\n",
            "81    Shark involvement unconfirmed but considered p...\n",
            "82                                             8' shark\n",
            "87                                          Tiger shark\n",
            "90                                          Tiger shark\n",
            "Name: Species , dtype: object\n"
          ],
          "name": "stdout"
        }
      ]
    },
    {
      "cell_type": "markdown",
      "metadata": {
        "id": "LDsAWW42W2CO"
      },
      "source": [
        "After removing the null data from the USA Species column, there are several different shark species listed, including Tiger, Nurse, Blacktip, Juvenile, Sand Tiger, and Bull sharks. Assuming this information is accurate, we'll try to cleanup the 'Species ' information for the entire dataset"
      ]
    },
    {
      "cell_type": "markdown",
      "metadata": {
        "id": "fYXGWx0bYzOi"
      },
      "source": [
        "**Cleaning and Organizing the Species Column**\n",
        "\n",
        "We'll start cleaning and organizing the species column. The main goal will be to extract the species listed, but there are many records with just a length or some general comment. These will be changed to unknown, along with any nulls."
      ]
    },
    {
      "cell_type": "code",
      "metadata": {
        "colab": {
          "base_uri": "https://localhost:8080/"
        },
        "id": "4R_hzSFHaGHO",
        "outputId": "64ec2d26-8a9c-4f6c-976c-a35d1bfce8f6"
      },
      "source": [
        "# Replace null values for Species with 'Unknown' and split the 'Species' string for further analysis\n",
        "df['Species '].fillna('unknown', inplace=True)\n",
        "df['species'] = df['Species '].str.lower().str.replace('\\\"','').str.replace('\\?','').str.replace('questionable','unknown').str.replace(\"\\'\",'').str.replace('.','').str.split()\n",
        "print(df['species'].head(20))\n",
        "print(df['species'].tail(20))"
      ],
      "execution_count": 79,
      "outputs": [
        {
          "output_type": "stream",
          "text": [
            "0                                        [tiger, shark]\n",
            "1                                             [unknown]\n",
            "2                                     [a, small, shark]\n",
            "3                       [broadnose, seven, gill, shark]\n",
            "4                                             [unknown]\n",
            "5                                             [unknown]\n",
            "6                                        [lemon, shark]\n",
            "7                                        [white, shark]\n",
            "8                                             [unknown]\n",
            "9                                             [unknown]\n",
            "10    [shovelnose, shark, which, is, a, ray,, not, a...\n",
            "11                                            [unknown]\n",
            "12                                            [unknown]\n",
            "13                                            [unknown]\n",
            "14                                            [unknown]\n",
            "15                                            [unknown]\n",
            "16                                       [white, shark]\n",
            "17                                [34, m, tiger, shark]\n",
            "18                                            [unknown]\n",
            "19                                [10-12, tiger, shark]\n",
            "Name: species, dtype: object\n",
            "5702     [2, m, shark]\n",
            "5703    [white, shark]\n",
            "5704         [unknown]\n",
            "5705         [unknown]\n",
            "5706         [unknown]\n",
            "5707         [unknown]\n",
            "5708         [unknown]\n",
            "5709         [unknown]\n",
            "5710         [unknown]\n",
            "5711         [unknown]\n",
            "5712         [unknown]\n",
            "5713         [unknown]\n",
            "5714         [unknown]\n",
            "5715         [unknown]\n",
            "5716         [unknown]\n",
            "5717         [unknown]\n",
            "5718         [unknown]\n",
            "5719         [unknown]\n",
            "5720         [unknown]\n",
            "5721         [unknown]\n",
            "Name: species, dtype: object\n"
          ],
          "name": "stdout"
        }
      ]
    },
    {
      "cell_type": "markdown",
      "metadata": {
        "id": "IGxNai5ckuDE"
      },
      "source": [
        "We'll piece back together some of the individual words from the species column. Those with a number of words greater than 4 will be ignored. There are too many options to review for those. Those under 4 words will be combined for further analysis."
      ]
    },
    {
      "cell_type": "code",
      "metadata": {
        "colab": {
          "base_uri": "https://localhost:8080/"
        },
        "id": "cF4zcldpWe-2",
        "outputId": "43f71b16-be49-4b69-d19c-775b8a9be25e"
      },
      "source": [
        "# Function to concatenate the split words in the species column\n",
        "def shark_name(my_list):\n",
        "    if len(my_list) >= 4:\n",
        "        return 'very long'\n",
        "    elif len(my_list) == 3:\n",
        "        return str(my_list[-3] + ' ' + my_list[-2] + ' ' + my_list[-1])\n",
        "    elif len(my_list) == 2:\n",
        "        return str(my_list[-2] + ' ' + my_list[-1])\n",
        "    else:        \n",
        "        return 'unknown'\n",
        "\n",
        "df['Species'] = df['species'].apply(shark_name)\n",
        "df['Species'].unique()"
      ],
      "execution_count": 80,
      "outputs": [
        {
          "output_type": "execute_result",
          "data": {
            "text/plain": [
              "array(['tiger shark', 'unknown', 'a small shark', 'very long',\n",
              "       'lemon shark', 'white shark', '10-12 tiger shark',\n",
              "       'juvenile blacktip shark', '5 blacktip shark', '10 tiger shark',\n",
              "       'oceanic whitetip shark', '7 shark', 'juvenile shark',\n",
              "       '1+ m shark', '2 shark', '14 white shark', 'nurse shark',\n",
              "       '65 shark', 'blacktip shark, 5', 'sandtiger shark',\n",
              "       'white shark, 3m', 'shark pup', 'white shark, juvenile',\n",
              "       'bull shark pup', '8 shark', 'cookiecutter shark',\n",
              "       'sand tiger shark', '12 shark', '4 shark', 'spinner shark',\n",
              "       '25 m shark', 'bull shark', 'wobbegong shark', 'white shark, 46m',\n",
              "       'mako shark, 7', 'bronze whaler 25m', '5 shark', 'reef shark',\n",
              "       'salmon shark, juvenile', 'nurse shark, 5', '2 m shark',\n",
              "       'tiger shark, 3m', 'lemon shark, 3', 'bull shark, 6',\n",
              "       'grey reef shark', 'invalid incident', '3 m shark', '6 shark',\n",
              "       'juvenile bull shark', 'tiger shark, 12', '35 m shark',\n",
              "       '18 m shark', 'blacktip shark', 'possibly a wobbegong',\n",
              "       'galapagos shark', '2m shark', 'small shark',\n",
              "       'juvenile nurse shark', 'nurse shark 5', 'tiger shark, female',\n",
              "       'porbeagle, 15 m', 'white shark, 35m', 'shark involvement unknown',\n",
              "       'white shark, 10', 'sandtiger shark 2', 'blue shark 6',\n",
              "       'white shark, 9', 'no shark invovlement', 'bull shark, 2m',\n",
              "       'seven-gill shark', '3 shark', '9 shark', '10 shark',\n",
              "       'bull shark, 15', 'lemon shark pup', 'caribbean reef shark',\n",
              "       'wobbegong shark, 2m', 'tiger shark, 10', 'blue shark',\n",
              "       'nurse shark, 4', 'reef shark, 1m', 'lemon shark, 9',\n",
              "       'angel shark', 'dogfish shark', 'tawny nurse shark', '3+ m shark',\n",
              "       'mako shark', 'blacktip shark, 4', 'nurse shark, 2',\n",
              "       'bull shark, 7', 'nurse shark, 25-ft', 'bronze whaler',\n",
              "       'no shark involvement', 'reef shark, 5', 'tiger shark, 14',\n",
              "       'silky shark, 65', 'spinner shark, 7', 'spinner shark, 5',\n",
              "       'tiger shark, 7', 'hammerhead sp', 'tiger shark, 13',\n",
              "       'white shark, 19', 'hammerhead shark', 'white shark, 13',\n",
              "       'mako shark, 100-lb', 'white shark, 7', 'bull shark, 5',\n",
              "       'small nurse shark', 'blacktip reef shark', '5 m shark',\n",
              "       '15 m shark', 'goblin shark', '1 m shark', 'bull shark, 45',\n",
              "       'bull shark, 8', '18 metre shark', 'bull shark, 12m', '3m shark',\n",
              "       'white shark, 15', 'cow shark', 'raggedtooth shark, 2m',\n",
              "       '7-gill shark', '1m shark', 'small bull shark', 'salmon shark',\n",
              "       'mako shark, 5', 'lemon shark, 4', 'wobbegong, 2m', 'small sharks',\n",
              "       'white shark, 4m', 'white shark, 5m', 'tiger shark, 15',\n",
              "       'tiger shark, 6', 'tiger shark, 8', 'porbeagle shark, 7',\n",
              "       '45 m shark', '14 to 18shark', '15 shark', 'small blacktip shark',\n",
              "       'blue shark, 25m', 'bull shark, 3m', 'white shark, 6m',\n",
              "       'grey nurse shark', 'white shark, 7m', 'white shark, 25m',\n",
              "       'raggedtooth shark', 'tiger shark, 2m', 'white shark, >6',\n",
              "       '4 m shark', 'zambesi shark', 'tiger shark, 28m',\n",
              "       'sandbar shark, 8', 'bull shark, 12', 'reef shark, 15m',\n",
              "       'blacktip shark pup', 'bull shark, 25m', 'porbeagle shark, 8',\n",
              "       'bull shark, 14m', 'nurse shark, juvenile', 'blue shark, 7',\n",
              "       'lemon shark, 6', '14 shark', 'wobbegong shark, 16m',\n",
              "       'spinner shark, 6', 'zambesi shark, 2m', 'sandtiger shark, 8',\n",
              "       'thresher shark', 'bull shark, 10', 'white shark, 2m',\n",
              "       'nurse shark, 6', '80 kg shark', 'bronze whaler shark',\n",
              "       'wobbegong shark, 60cm', 'blue shark, 1m', '26 m shark',\n",
              "       'white shark, 12', 'white sharks', 'dusky shark, 2m',\n",
              "       'mako shark, 3m', 'broadnose sevengill shark', 'reef shark, 18m',\n",
              "       '=+3 shark', 'white shark, 45m', 'basking shark',\n",
              "       'bull shark, 18m', 'tiger shark, 23m', '25 shark',\n",
              "       'goblin shark, 42', 'blacktip shark, 2m', 'mako shark, 90kg',\n",
              "       'nurse shark, 10', '227 m shark', 'gray reef shark', '95 shark',\n",
              "       'sand shark', 'unknown incident', '24 m shark',\n",
              "       'raggedtooth shark, 150-kg', 'bull shark, 15m', 'white shark, 16',\n",
              "       'small catsharks', 'angel shark, 12m', 'tiger shark, 5',\n",
              "       'whitetip reef shark', 'raggedtooth shark, 25m', '18 white shark',\n",
              "       'caribbean reef sharks', 'juvenile white shark', '35 m [115]shark',\n",
              "       '[4 to 5]', 'small hammerhead shark', 'nurse shark, 3',\n",
              "       'black tipped shark', '92 white shark',\n",
              "       'shark involvement doubtful', 'shortfin mako shark',\n",
              "       'unidentified species', '“small brown shark”', 'a “small” shark',\n",
              "       'species unidentified', 'wobbegong shark, 1m',\n",
              "       'mako shark, 400-lb', '3 blacktip shark', 'bull shark, 400-lb',\n",
              "       'nurse shark, 1m', '12 sandtiger shark', 'mako shark, 14',\n",
              "       'blacktip shark, 2', 'sevengill shark', '3 bull sharks',\n",
              "       'dusky shark, 12', '5 spinner shark', '17 m shark',\n",
              "       'soupfin shark', 'a young shark', 'leopard shark',\n",
              "       'possiby white shark', 'unidentified shark', '>2 m shark',\n",
              "       'lemon shark, 30-lb', '7 female shark', '4 spinner shark',\n",
              "       '2 m hammerhead', '150-lb shark', 'sandbar shark',\n",
              "       '7 silvertip shark', '16 white shark', '6 m shark', '43 m shark',\n",
              "       '16 m shark', '>1 m shark', '6, 100-lb shark',\n",
              "       '30-kg [66-lb] shark', 'hammerhead shark+o2356',\n",
              "       'small blue shark', '12 white shark', '45 shark',\n",
              "       '35 hammerhead shark', '6 blacktip shark', 'blue sharks',\n",
              "       'gray shark', '22 m shark', '270 kg shark', 'blue shark, 2m',\n",
              "       'whale shark', 'juvenile dusky shark',\n",
              "       'shark involvement unconfirmed', 'carpet shark, 10',\n",
              "       '8 blue shark', 'dog shark', '75 shark', 'carpet shark',\n",
              "       '90-kg blackfin shark', '4m [13] shark', 'not authenticated',\n",
              "       'blue whaler (galeolamna)', '5 blue shark', 'nurse shark, 25',\n",
              "       'copper shark', 'wobbegong shark, 5', '2 sharks involved',\n",
              "       '300-kg [662-lb] shark', 'wobbegong shark, 3', 'white shark, 152',\n",
              "       '500-lb shark', '8 sharks', '193-lb shark', '<15 m shark',\n",
              "       '49 m [16]shark', '60 cm shark', '36 shark', '43 shark',\n",
              "       '27 m [9]shark', 'hammerhead shark, 500-llb', 'zambesi shark, 49',\n",
              "       '2 banjo shark', 'bull shark, 1m', '80-lb hooked shark',\n",
              "       'raggedtooth shark, 100-lb', 'blue pointer',\n",
              "       'blacktail reef shark', '55 shark', 'hammerhead shark, 9',\n",
              "       '20 kg shark', '200-lb shark', '<1 m shark',\n",
              "       'several sharks involved', 'mako shark, 125-lb', 'a sand shark',\n",
              "       'wobbegong shark, 4', '8-lb shark', '40-lb sand shark',\n",
              "       'small brown-colored shark', 'a little shark', '20 shark',\n",
              "       '5m shark', '37 [12] shark', '80-lb sand shark',\n",
              "       'hammerhead shark, 5', 'carpet shark, 5', '136-kg [300-lb] shark',\n",
              "       'wobbegong shark, 6', '1,100-lb shark', '17 white shark',\n",
              "       '213 m shark', 'small carpet shark', 'whtietip reef shark',\n",
              "       'bonita sharkk, 200-lb', 'grey shark', 'possibly c leucas',\n",
              "       '>16 m shark', 'porbeagle shark', '100-lb shark',\n",
              "       'blue pointer, 16', 'whaler shark', '18 shark', 'a large shark',\n",
              "       'tiger shark, 3', 'grey-colored shark', '650-lb shark',\n",
              "       'white shark, 246-kg', 'blue nose shark', '2 sharks',\n",
              "       'blue pointer, 11', '3 sharks', '16 800-lb shark',\n",
              "       '250-lb dog shark', '9-foot shark', 'a dog shark',\n",
              "       'blue pointer, 12', 'blue nose sharks', 'a blue shark',\n",
              "       'blue shark, 4', '13 shark', '18-foot shark',\n",
              "       'shark involvement probable'], dtype=object)"
            ]
          },
          "metadata": {
            "tags": []
          },
          "execution_count": 80
        }
      ]
    },
    {
      "cell_type": "markdown",
      "metadata": {
        "id": "55ZD8KGAs73i"
      },
      "source": [
        "Many of the sharks involved have been cleaned up, but there's still quite a bit of variety. A lot of them include some sort of measurement, and some have shark names that are more than 2 words (ex. - tawny nurse shark and bronze whaler shark)."
      ]
    },
    {
      "cell_type": "code",
      "metadata": {
        "colab": {
          "base_uri": "https://localhost:8080/"
        },
        "id": "cw5YywtIebZ8",
        "outputId": "4955e32d-4160-438e-ac91-32ea345e0d49"
      },
      "source": [
        "# Updated look at the most common results for the shark species involved\n",
        "df['Species'].value_counts()"
      ],
      "execution_count": 81,
      "outputs": [
        {
          "output_type": "execute_result",
          "data": {
            "text/plain": [
              "unknown                   2488\n",
              "very long                 1858\n",
              "white shark                164\n",
              "tiger shark                 82\n",
              "bull shark                  53\n",
              "                          ... \n",
              "9-foot shark                 1\n",
              "5m shark                     1\n",
              "500-lb shark                 1\n",
              "nurse shark, 6               1\n",
              "raggedtooth shark, 25m       1\n",
              "Name: Species, Length: 356, dtype: int64"
            ]
          },
          "metadata": {
            "tags": []
          },
          "execution_count": 81
        }
      ]
    },
    {
      "cell_type": "code",
      "metadata": {
        "colab": {
          "base_uri": "https://localhost:8080/"
        },
        "id": "7v3qlVn5n7-V",
        "outputId": "48c3cf37-69dd-411b-ae3d-da2eae20767a"
      },
      "source": [
        "# Manually create a list of shark species commonly seen in the species column\n",
        "sharks = ['white shark', 'bull shark', 'tiger shark', 'hammerhead shark', 'grey nurse shark', 'tawney nurse shark'\n",
        "         'bronze whaler shark', 'tawny nurse shark', 'nurse shark', 'sand tiger shark', 'oceanic whitetip shark', \n",
        "         'whitetip reef shark', 'thresher shark', 'caribbean reef shark', 'blue shark', 'lemon shark', \n",
        "         'spinner shark', 'wobbegong', 'sandtiger shark', 'blacktip shark', 'porbeagle shark', 'mako shark', \n",
        "         'salmon shark', 'sandbar shark', 'zambesi shark', 'goblin shark', 'raggedtooth shark', 'port jackson shark', \n",
        "         'cow shark', '7-gill shark', 'silky shark', 'galapagos shark', 'grey reef shark', 'cookiecutter shark',\n",
        "         'seven gill shark']\n",
        "\n",
        "# Create a function to populate a new column named, 'Species ID', with the appropriate species name\n",
        "def shark_id(a_list):\n",
        "    for s in sharks:\n",
        "        if s in a_list:\n",
        "            return s\n",
        "    return 'TBD'\n",
        "\n",
        "df['Species ID'] = df['Species'].apply(shark_id)\n",
        "df['Species ID'].value_counts()\n"
      ],
      "execution_count": 82,
      "outputs": [
        {
          "output_type": "execute_result",
          "data": {
            "text/plain": [
              "TBD                       4965\n",
              "white shark                222\n",
              "tiger shark                143\n",
              "bull shark                  93\n",
              "wobbegong                   38\n",
              "nurse shark                 34\n",
              "blacktip shark              32\n",
              "blue shark                  28\n",
              "mako shark                  23\n",
              "lemon shark                 20\n",
              "raggedtooth shark           19\n",
              "zambesi shark               15\n",
              "hammerhead shark            15\n",
              "spinner shark               13\n",
              "grey nurse shark            13\n",
              "oceanic whitetip shark       9\n",
              "grey reef shark              6\n",
              "caribbean reef shark         5\n",
              "galapagos shark              4\n",
              "porbeagle shark              3\n",
              "cookiecutter shark           3\n",
              "salmon shark                 3\n",
              "7-gill shark                 3\n",
              "goblin shark                 2\n",
              "sandbar shark                2\n",
              "silky shark                  1\n",
              "whitetip reef shark          1\n",
              "cow shark                    1\n",
              "thresher shark               1\n",
              "tawny nurse shark            1\n",
              "Name: Species ID, dtype: int64"
            ]
          },
          "metadata": {
            "tags": []
          },
          "execution_count": 82
        }
      ]
    },
    {
      "cell_type": "markdown",
      "metadata": {
        "id": "gXV7m4MHwwAz"
      },
      "source": [
        "Not the easiest way, but putting together the list of sharks identified attacks helped get an idea of which sharks have been involved the most in recorded attacks. There is some cleanup still to do, because regional differences in common shark names is prevalent. For example, the sandtiger, raggedtooth, and grey nurse shark all refer to the same species. As does the zambesi and bull sharks (along with other names). Additionally, there are several types of hammerhead sharks, yet this dataset does not seem to have much differentiation of those species.\n",
        "\n",
        "Per the Florida Museum's webpage regarding bull sharks, https://www.floridamuseum.ufl.edu/discover-fish/species-profiles/carcharhinus-leucas/, \"It is known by many different common names throughout its range including requin bouledogue in French speaking countries; Tiburon sarda in Spain; Zambezi shark, Van Rooyen’s shark in South Africa; The Ganges shark in India (though this name is also given to the freshwater river shark Glyphis gangeticus); The Nicaragua shark in Central America; The freshwater whaler, estuary whaler, and Swan River whaler in Australia; The shovelnose shark, square-nose shark, river shark, slipway grey shark, ground shark, and cub shark in various English speaking parts of the world.\"\n",
        "\n",
        "In hindsight, using the scientific names for the different shark species would be ideal for limiting the regional naming issues. However, that information is not available in this dataset. Another issue is the exact identification of the shark. Many species are very similar in body shape, color, size, etc. so exact identification would be difficult for most witnesses."
      ]
    },
    {
      "cell_type": "code",
      "metadata": {
        "colab": {
          "base_uri": "https://localhost:8080/"
        },
        "id": "pcqT9pmRrZLe",
        "outputId": "3d88dd8b-5598-441c-9941-f1c40c9fc0c8"
      },
      "source": [
        "# Combine some of the different spelling or local names for the same shark species\n",
        "change_names = {'seven gill shark':'7-gill shark', 'zambesi shark':'bull shark', 'grey nurse shark':'raggedtooth shark'}\n",
        "df['Species ID'].astype(str)\n",
        "df['Species ID'].replace(change_names, value=None, inplace=True)\n",
        "df['Species ID'].value_counts()"
      ],
      "execution_count": 83,
      "outputs": [
        {
          "output_type": "execute_result",
          "data": {
            "text/plain": [
              "TBD                       4965\n",
              "white shark                222\n",
              "tiger shark                143\n",
              "bull shark                 108\n",
              "wobbegong                   38\n",
              "nurse shark                 34\n",
              "raggedtooth shark           32\n",
              "blacktip shark              32\n",
              "blue shark                  28\n",
              "mako shark                  23\n",
              "lemon shark                 20\n",
              "hammerhead shark            15\n",
              "spinner shark               13\n",
              "oceanic whitetip shark       9\n",
              "grey reef shark              6\n",
              "caribbean reef shark         5\n",
              "galapagos shark              4\n",
              "porbeagle shark              3\n",
              "cookiecutter shark           3\n",
              "salmon shark                 3\n",
              "7-gill shark                 3\n",
              "goblin shark                 2\n",
              "sandbar shark                2\n",
              "silky shark                  1\n",
              "whitetip reef shark          1\n",
              "cow shark                    1\n",
              "thresher shark               1\n",
              "tawny nurse shark            1\n",
              "Name: Species ID, dtype: int64"
            ]
          },
          "metadata": {
            "tags": []
          },
          "execution_count": 83
        }
      ]
    },
    {
      "cell_type": "markdown",
      "metadata": {
        "id": "B92bnRMFykDf"
      },
      "source": [
        "The fact that the white shark, tiger shark and bull shark are at the top of the list in terms of number of attacks is not surprising. What is a bit surprising is the wobbegong and nurse shark in the top 6. Those species of shark are normally known for being on the more sluggish/slow moving side that spend quite a bit of their time resting on the seafloor. Yet, they have more attacks attributed to them than some of the more \"agressive\" sharks, such as the oceanic white tip."
      ]
    },
    {
      "cell_type": "code",
      "metadata": {
        "colab": {
          "base_uri": "https://localhost:8080/"
        },
        "id": "tolA0RvcwUDL",
        "outputId": "b8863e8b-3276-4bf2-fc1a-734fa564333d"
      },
      "source": [
        "# Isolating the known species names and excluding those that were TBD/unknown\n",
        "shark_id = df[df['Species ID'] != 'TBD']\n",
        "print(shark_id.head())\n",
        "shark_id.shape"
      ],
      "execution_count": 84,
      "outputs": [
        {
          "output_type": "stream",
          "text": [
            "   Case Number         Date  ...            Species   Species ID\n",
            "0   2020.02.05  05-Feb-2020  ...        tiger shark  tiger shark\n",
            "6   2020.01.07  07-Jan-2020  ...        lemon shark  lemon shark\n",
            "7   2020.01.05  05-Jan-2020  ...        white shark  white shark\n",
            "16  2019.12.20  20-Dec-2019  ...        white shark  white shark\n",
            "19  2019.12.03  03-Dec-2019  ...  10-12 tiger shark  tiger shark\n",
            "\n",
            "[5 rows x 22 columns]\n"
          ],
          "name": "stdout"
        },
        {
          "output_type": "execute_result",
          "data": {
            "text/plain": [
              "(753, 22)"
            ]
          },
          "metadata": {
            "tags": []
          },
          "execution_count": 84
        }
      ]
    },
    {
      "cell_type": "code",
      "metadata": {
        "colab": {
          "base_uri": "https://localhost:8080/"
        },
        "id": "CoJks3pEy0Pn",
        "outputId": "ac3ea7dd-285c-4ab8-99e3-d561bcdadd74"
      },
      "source": [
        "# Create a fatality dataframe by species\n",
        "species_fatal = df.groupby('Species ID')['Fatal'].sum()\n",
        "species_fatal_df = pd.DataFrame(species_fatal)\n",
        "species_fatal_df.columns = ['Fatal']\n",
        "species_fatal_df.reset_index(inplace=True)\n",
        "\n",
        "# Create a count of incidents dataframe by species\n",
        "species_count = df.groupby('Species ID')['Fatal'].count()\n",
        "species_count_df = pd.DataFrame(species_count)\n",
        "species_count_df.columns = ['Count']\n",
        "species_count_df.reset_index(inplace=True)\n",
        "\n",
        "# Merge the fatality and count dataframes\n",
        "species_fatal_df = pd.merge(species_fatal_df, species_count_df, how = 'left', on = 'Species ID')\n",
        "print(species_fatal_df)"
      ],
      "execution_count": 85,
      "outputs": [
        {
          "output_type": "stream",
          "text": [
            "                Species ID  Fatal  Count\n",
            "0             7-gill shark      0      3\n",
            "1                      TBD    928   4965\n",
            "2           blacktip shark      0     32\n",
            "3               blue shark      5     28\n",
            "4               bull shark     19    108\n",
            "5     caribbean reef shark      0      5\n",
            "6       cookiecutter shark      0      3\n",
            "7                cow shark      0      1\n",
            "8          galapagos shark      0      4\n",
            "9             goblin shark      0      2\n",
            "10         grey reef shark      0      6\n",
            "11        hammerhead shark      0     15\n",
            "12             lemon shark      0     20\n",
            "13              mako shark      2     23\n",
            "14             nurse shark      0     34\n",
            "15  oceanic whitetip shark      0      9\n",
            "16         porbeagle shark      0      3\n",
            "17       raggedtooth shark      0     32\n",
            "18            salmon shark      0      3\n",
            "19           sandbar shark      0      2\n",
            "20             silky shark      0      1\n",
            "21           spinner shark      0     13\n",
            "22       tawny nurse shark      0      1\n",
            "23          thresher shark      0      1\n",
            "24             tiger shark     32    143\n",
            "25             white shark     54    222\n",
            "26     whitetip reef shark      0      1\n",
            "27               wobbegong      0     38\n"
          ],
          "name": "stdout"
        }
      ]
    },
    {
      "cell_type": "code",
      "metadata": {
        "colab": {
          "base_uri": "https://localhost:8080/"
        },
        "id": "kFTgRYLCzYu_",
        "outputId": "341fa37b-2f04-483a-f4c1-a391734d0b9f"
      },
      "source": [
        "# Calcualate a fatility rate by species\n",
        "species_fatal_df['Fatality Rate'] = species_fatal_df['Fatal'] / species_fatal_df['Count']\n",
        "print(species_fatal_df)"
      ],
      "execution_count": 86,
      "outputs": [
        {
          "output_type": "stream",
          "text": [
            "                Species ID  Fatal  Count  Fatality Rate\n",
            "0             7-gill shark      0      3       0.000000\n",
            "1                      TBD    928   4965       0.186908\n",
            "2           blacktip shark      0     32       0.000000\n",
            "3               blue shark      5     28       0.178571\n",
            "4               bull shark     19    108       0.175926\n",
            "5     caribbean reef shark      0      5       0.000000\n",
            "6       cookiecutter shark      0      3       0.000000\n",
            "7                cow shark      0      1       0.000000\n",
            "8          galapagos shark      0      4       0.000000\n",
            "9             goblin shark      0      2       0.000000\n",
            "10         grey reef shark      0      6       0.000000\n",
            "11        hammerhead shark      0     15       0.000000\n",
            "12             lemon shark      0     20       0.000000\n",
            "13              mako shark      2     23       0.086957\n",
            "14             nurse shark      0     34       0.000000\n",
            "15  oceanic whitetip shark      0      9       0.000000\n",
            "16         porbeagle shark      0      3       0.000000\n",
            "17       raggedtooth shark      0     32       0.000000\n",
            "18            salmon shark      0      3       0.000000\n",
            "19           sandbar shark      0      2       0.000000\n",
            "20             silky shark      0      1       0.000000\n",
            "21           spinner shark      0     13       0.000000\n",
            "22       tawny nurse shark      0      1       0.000000\n",
            "23          thresher shark      0      1       0.000000\n",
            "24             tiger shark     32    143       0.223776\n",
            "25             white shark     54    222       0.243243\n",
            "26     whitetip reef shark      0      1       0.000000\n",
            "27               wobbegong      0     38       0.000000\n"
          ],
          "name": "stdout"
        }
      ]
    },
    {
      "cell_type": "markdown",
      "metadata": {
        "id": "lySnPs6wx4m0"
      },
      "source": [
        "With the limited number of shark species identified, the data shows that the Tiger shark has the highest fatality rate at almost 24%. It's followed closely by the White shark at 22%."
      ]
    },
    {
      "cell_type": "code",
      "metadata": {
        "colab": {
          "base_uri": "https://localhost:8080/"
        },
        "id": "VoyQbe5yxW9m",
        "outputId": "c21d99ae-70ab-473a-e644-bb4d085a76de"
      },
      "source": [
        "# Isolate the top 20 species based on the shark incident count and will not use the 'TBD' data\n",
        "species_top20 = species_fatal_df.sort_values(by=['Count'], ascending=False, ignore_index=True)[1:21]\n",
        "print(species_top20)"
      ],
      "execution_count": 87,
      "outputs": [
        {
          "output_type": "stream",
          "text": [
            "                Species ID  Fatal  Count  Fatality Rate\n",
            "1              white shark     54    222       0.243243\n",
            "2              tiger shark     32    143       0.223776\n",
            "3               bull shark     19    108       0.175926\n",
            "4                wobbegong      0     38       0.000000\n",
            "5              nurse shark      0     34       0.000000\n",
            "6        raggedtooth shark      0     32       0.000000\n",
            "7           blacktip shark      0     32       0.000000\n",
            "8               blue shark      5     28       0.178571\n",
            "9               mako shark      2     23       0.086957\n",
            "10             lemon shark      0     20       0.000000\n",
            "11        hammerhead shark      0     15       0.000000\n",
            "12           spinner shark      0     13       0.000000\n",
            "13  oceanic whitetip shark      0      9       0.000000\n",
            "14         grey reef shark      0      6       0.000000\n",
            "15    caribbean reef shark      0      5       0.000000\n",
            "16         galapagos shark      0      4       0.000000\n",
            "17            salmon shark      0      3       0.000000\n",
            "18      cookiecutter shark      0      3       0.000000\n",
            "19         porbeagle shark      0      3       0.000000\n",
            "20            7-gill shark      0      3       0.000000\n"
          ],
          "name": "stdout"
        }
      ]
    },
    {
      "cell_type": "code",
      "metadata": {
        "colab": {
          "base_uri": "https://localhost:8080/",
          "height": 404
        },
        "id": "SBbYlWU10rP0",
        "outputId": "aa72efd3-b41d-4c69-d985-3571293659f6"
      },
      "source": [
        "# Plot the number of attacks and fatality rate by species\n",
        "fig,ax = plt.subplots(figsize=(12,4))\n",
        "ax.bar(species_top20['Species ID'], species_top20['Count'], color=\"blue\", alpha=0.8, width=-0.4, align='edge')\n",
        "ax.set_xlabel(\"Species ID\",fontsize=14)\n",
        "ax.set_ylabel(\"# of Shark Attacks\",color=\"blue\",fontsize=14)\n",
        "ax.tick_params(axis='x', labelrotation = 90)\n",
        "ax2=ax.twinx()\n",
        "ax2.bar(species_top20['Species ID'], species_top20['Fatality Rate'],color=\"red\", alpha=0.8, width=0.4, align='edge')\n",
        "ax2.set_ylabel(\"Fatality Rate\",color=\"red\",fontsize=14)\n",
        "plt.title('# of Shark Attacks and Fatality Rates by Shark Species', fontsize=16)\n",
        "plt.show()"
      ],
      "execution_count": 88,
      "outputs": [
        {
          "output_type": "display_data",
          "data": {
            "image/png": "[encoded data removed]",
            "text/plain": [
              "<Figure size 864x288 with 2 Axes>"
            ]
          },
          "metadata": {
            "tags": [],
            "needs_background": "light"
          }
        }
      ]
    },
    {
      "cell_type": "markdown",
      "metadata": {
        "id": "VEvhsrsNZhWn"
      },
      "source": [
        "The White Shark had more attacks attributed to it (222), the Tiger Shark (143 attacks). The White Shark also have the highest fatality rate (24% for the White Shark and 22% for the Tiger Shark). The next highest fatality rate came from Blue Shark, at ~18%, with 5 of 28 attacks leading to a human death.\n",
        "\n",
        "Of course, these numbers should be taken as a sample only, since, about 4965 of the attacks (~19% fatality rate),the shark species was not identified (TBD). Also, for this analysis, we assumed that any of the records with an 'unknown' entry for the 'Fatal (Y/N)' column were not fatal. Assuredly, the number of attacks and fatality counts for several of these shark species would be higher if more, or all, sharks were identified in those attacks.\n",
        "\n",
        "Before moving on, let's take a quick look at some of the species identified with the most attacks and their values in the 'Fatal (Y/N)' column."
      ]
    },
    {
      "cell_type": "code",
      "metadata": {
        "colab": {
          "base_uri": "https://localhost:8080/"
        },
        "id": "6iEP3_NE1BI2",
        "outputId": "7af199cf-7a24-4192-9cbc-7d74b5286002"
      },
      "source": [
        "white = df[df['Species ID'] == 'white shark']\n",
        "print('White Shark', '\\n', white['Fatal (Y/N)'].value_counts(), '\\n')\n",
        "\n",
        "tiger = df[df['Species ID'] == 'tiger shark']\n",
        "print('Tiger Shark', '\\n', tiger['Fatal (Y/N)'].value_counts(), '\\n')\n",
        "\n",
        "bull = df[df['Species ID'] == 'bull shark']\n",
        "print('Bull Shark', '\\n', bull['Fatal (Y/N)'].value_counts())\n",
        "\n",
        "\n"
      ],
      "execution_count": 113,
      "outputs": [
        {
          "output_type": "stream",
          "text": [
            "White Shark \n",
            " N          162\n",
            "Y           54\n",
            "UNKNOWN      6\n",
            "Name: Fatal (Y/N), dtype: int64 \n",
            "\n",
            "Tiger Shark \n",
            " N          109\n",
            "Y           32\n",
            "UNKNOWN      2\n",
            "Name: Fatal (Y/N), dtype: int64 \n",
            "\n",
            "Bull Shark \n",
            " N    89\n",
            "Y    19\n",
            "Name: Fatal (Y/N), dtype: int64\n"
          ],
          "name": "stdout"
        }
      ]
    },
    {
      "cell_type": "markdown",
      "metadata": {
        "id": "8dnPnhEtmZ1P"
      },
      "source": [
        "Based on this output, only 6 of the 162 attacks by White Sharks did not have a definite fatality or non-fatality value. For the Tiger Shark, only 2 of the 109 were unknown. Based on this information, assuming the 'unknown' fatality values were non-fatal, the final fatality rates wouldn't have changed significantly for these species. Again, with so many unknowns (species ID, fatality, etc.) in these records, we're looking for trends more so than exact numbers."
      ]
    },
    {
      "cell_type": "markdown",
      "metadata": {
        "id": "4yt5zrs0ndsa"
      },
      "source": [
        "**Activity of Humans During Shark Attacks**\n",
        "\n",
        "Let's take a look at what the humans were doing during the shark attacks. This information is documented in the 'Activity' column of the GSAF dataset. Like the some of other text-based columns, quite a bit of cleanup in this information is expected."
      ]
    },
    {
      "cell_type": "code",
      "metadata": {
        "colab": {
          "base_uri": "https://localhost:8080/"
        },
        "id": "0RboFRmfJzm-",
        "outputId": "c1b8897f-f40a-45f3-957d-2446f65b494a"
      },
      "source": [
        "df['Activity'].describe()"
      ],
      "execution_count": 114,
      "outputs": [
        {
          "output_type": "execute_result",
          "data": {
            "text/plain": [
              "count        5276\n",
              "unique       1310\n",
              "top       Surfing\n",
              "freq         1022\n",
              "Name: Activity, dtype: object"
            ]
          },
          "metadata": {
            "tags": []
          },
          "execution_count": 114
        }
      ]
    },
    {
      "cell_type": "markdown",
      "metadata": {
        "id": "YuODVKf2oCQI"
      },
      "source": [
        "The 'Activity' column has 5276 records with 1310 unique entries, and the most numerous is, unsurprisingly, surfing (1022 attacks)."
      ]
    },
    {
      "cell_type": "code",
      "metadata": {
        "colab": {
          "base_uri": "https://localhost:8080/"
        },
        "id": "9-znDiFfnzl2",
        "outputId": "de7db894-c597-4857-9803-3ca88f5a1cfd"
      },
      "source": [
        "df['Activity'].value_counts(dropna=False).head(30)"
      ],
      "execution_count": 115,
      "outputs": [
        {
          "output_type": "execute_result",
          "data": {
            "text/plain": [
              "Surfing               1022\n",
              "Swimming               813\n",
              "NaN                    442\n",
              "Fishing                405\n",
              "Spearfishing           345\n",
              "Wading                 151\n",
              "Diving                 111\n",
              "Snorkeling              99\n",
              "Standing                96\n",
              "Scuba diving            79\n",
              "Bathing                 76\n",
              "Body boarding           62\n",
              "Body surfing            50\n",
              "Kayaking                37\n",
              "Boogie boarding         36\n",
              "Treading water          32\n",
              "Free diving             29\n",
              "Pearl diving            22\n",
              "Surf skiing             20\n",
              "Windsurfing             19\n",
              "Floating                18\n",
              "Boogie Boarding         17\n",
              "Walking                 17\n",
              "Shark fishing           14\n",
              "Surf fishing            13\n",
              "Rowing                  12\n",
              "Surf-skiing             12\n",
              "Kayak Fishing           11\n",
              "Canoeing                10\n",
              "Fishing for sharks      10\n",
              "Name: Activity, dtype: int64"
            ]
          },
          "metadata": {
            "tags": []
          },
          "execution_count": 115
        }
      ]
    },
    {
      "cell_type": "markdown",
      "metadata": {
        "id": "a3_ZuHmYoe10"
      },
      "source": [
        "Much like some of the other columns, the 'Activity' column contains similar activities, such as Diving, Scuba Diving, Pearl diving, Freediving. Also, does \"Boogie boarding\" and body boarding mean the same activity? Yes, they are similar enough to each other, but different from surfing. Let's clean up some of the activities."
      ]
    },
    {
      "cell_type": "code",
      "metadata": {
        "colab": {
          "base_uri": "https://localhost:8080/"
        },
        "id": "Nko9RfYmoQ2B",
        "outputId": "1108f12f-9fc2-4d69-8ee1-33d772115f8d"
      },
      "source": [
        "# Replace the null values with 'unknown' and change all the values to lowercase\n",
        "df['Activity'].fillna('unknown', inplace = True)\n",
        "df['Activity'] = df['Activity'].str.lower().str.replace('-',' ')\n",
        "df['Activity'].value_counts().head(40)"
      ],
      "execution_count": 116,
      "outputs": [
        {
          "output_type": "execute_result",
          "data": {
            "text/plain": [
              "surfing                           1022\n",
              "swimming                           813\n",
              "unknown                            445\n",
              "fishing                            405\n",
              "spearfishing                       345\n",
              "wading                             151\n",
              "diving                             111\n",
              "snorkeling                          99\n",
              "standing                            96\n",
              "scuba diving                        93\n",
              "bathing                             76\n",
              "body boarding                       71\n",
              "boogie boarding                     53\n",
              "body surfing                        53\n",
              "kayaking                            37\n",
              "treading water                      32\n",
              "surf skiing                         32\n",
              "free diving                         31\n",
              "pearl diving                        22\n",
              "windsurfing                         19\n",
              "floating                            18\n",
              "walking                             17\n",
              "shark fishing                       15\n",
              "kayak fishing                       14\n",
              "surf fishing                        14\n",
              "sea disaster                        13\n",
              "rowing                              12\n",
              "paddle boarding                     11\n",
              "canoeing                            11\n",
              "kite surfing                        11\n",
              "freediving                          10\n",
              "fishing for sharks                  10\n",
              "fell overboard                       9\n",
              "sitting on surfboard                 9\n",
              "freedom swimming                     9\n",
              "wade fishing                         9\n",
              "playing                              8\n",
              "diving for abalone                   8\n",
              "diving for trochus                   8\n",
              "surfing (sitting on his board)       7\n",
              "Name: Activity, dtype: int64"
            ]
          },
          "metadata": {
            "tags": []
          },
          "execution_count": 116
        }
      ]
    },
    {
      "cell_type": "code",
      "metadata": {
        "colab": {
          "base_uri": "https://localhost:8080/"
        },
        "id": "oKgMtydnpP9_",
        "outputId": "59b5beea-4ba4-4031-bd6b-67258a0417aa"
      },
      "source": [
        "# Manually create a dictionary to change the original activity to a similar category\n",
        "change_acts = {'diving for trochus':'diving', 'scuba diving':'diving', 'diving for abalone':'diving',\n",
        "                'free diving':'freediving', 'fishing for sharks':'fishing', 'surf fishing':'fishing',\n",
        "                'shark fishing':'fishing', 'kayak fishing':'fishing', 'freedom swimming':'swimming',\n",
        "              'boogie boarding':'body boarding', 'body surfing':'body boarding', 'wade fishing':'fishing',\n",
        "              'standing':'wading', 'bathing':'wading', 'walking':'wading', 'kayaking':'watercraft',\n",
        "              'rowing':'watercraft', 'canoeing':'watercraft', 'pearl diving':'diving', 'treading water':'swimming',\n",
        "              'surf skiing':'surfing', 'floating':'swimming', 'skindiving':'snorkeling', 'kite surfing':'surfing',\n",
        "              'spearfishing on scuba':'spearfishing', 'stand up paddleboarding':'paddle boarding',\n",
        "              'sitting on surfboard':'surfing', 'surfing (sitting on his board)':'surfing', 'splashing':'wading',\n",
        "              'kayaking / fishing':'fishing', 'free diving / spearfishing':'spearfishing', 'fishing on a boat':'fishing',\n",
        "              'fishing for mackerel':'fishing', 'free diving for abalone':'freediving', 'spearfishing / free diving':'spearfishing',\n",
        "              'spearfishing (free diving)':'spearfishing', 'sailing':'boat', 'scuba diving (submerged)':'diving',\n",
        "              'scuba diving (but on surface)':'diving', 'playing':'wading', 'paddling on surfboard':'surfing',\n",
        "              'skin diving':'snorkeling', 'free diving & spearfishing':'spearfishing'}\n",
        "df['Activity'].astype(str)\n",
        "df['Activity'].replace(change_acts, value=None, inplace=True)\n",
        "df['Activity'].value_counts().head(30)"
      ],
      "execution_count": 118,
      "outputs": [
        {
          "output_type": "execute_result",
          "data": {
            "text/plain": [
              "surfing                    1085\n",
              "swimming                    872\n",
              "fishing                     482\n",
              "unknown                     445\n",
              "spearfishing                370\n",
              "wading                      354\n",
              "diving                      250\n",
              "body boarding               177\n",
              "snorkeling                  109\n",
              "watercraft                   62\n",
              "freediving                   48\n",
              "windsurfing                  19\n",
              "paddle boarding              18\n",
              "sea disaster                 13\n",
              "boat                         10\n",
              "fell overboard                9\n",
              "feeding sharks                5\n",
              "kite boarding                 5\n",
              "paddleskiing                  5\n",
              "shell diving                  4\n",
              "air disaster                  4\n",
              "shipwreck                     4\n",
              "lifesaving drill              4\n",
              "jumped into the water         4\n",
              "murder                        4\n",
              "tagging sharks                4\n",
              "floating on his back          4\n",
              "diving for beche de mer       4\n",
              "jumping                       4\n",
              "sponge diving                 4\n",
              "Name: Activity, dtype: int64"
            ]
          },
          "metadata": {
            "tags": []
          },
          "execution_count": 118
        }
      ]
    },
    {
      "cell_type": "markdown",
      "metadata": {
        "id": "QgdePZKLrYvO"
      },
      "source": [
        "There are still a variety of activities, but we're just looking for generalities of the most common types. We've combined a lot of the different activities, so lets' see the top 15 activities."
      ]
    },
    {
      "cell_type": "code",
      "metadata": {
        "colab": {
          "base_uri": "https://localhost:8080/"
        },
        "id": "Y4Nuoap-qX7G",
        "outputId": "ddd20066-0ee2-47a8-9736-539301cb4a7c"
      },
      "source": [
        "df['Activity'].value_counts().head(15)"
      ],
      "execution_count": 119,
      "outputs": [
        {
          "output_type": "execute_result",
          "data": {
            "text/plain": [
              "surfing            1085\n",
              "swimming            872\n",
              "fishing             482\n",
              "unknown             445\n",
              "spearfishing        370\n",
              "wading              354\n",
              "diving              250\n",
              "body boarding       177\n",
              "snorkeling          109\n",
              "watercraft           62\n",
              "freediving           48\n",
              "windsurfing          19\n",
              "paddle boarding      18\n",
              "sea disaster         13\n",
              "boat                 10\n",
              "Name: Activity, dtype: int64"
            ]
          },
          "metadata": {
            "tags": []
          },
          "execution_count": 119
        }
      ]
    },
    {
      "cell_type": "code",
      "metadata": {
        "colab": {
          "base_uri": "https://localhost:8080/"
        },
        "id": "f4-cWaYHsEIt",
        "outputId": "e4620ec3-4712-4a65-9144-2ab58ba8b8a5"
      },
      "source": [
        "df['Activity'].value_counts(normalize=True).head(15)*100"
      ],
      "execution_count": 121,
      "outputs": [
        {
          "output_type": "execute_result",
          "data": {
            "text/plain": [
              "surfing            18.975166\n",
              "swimming           15.250087\n",
              "fishing             8.429521\n",
              "unknown             7.782441\n",
              "spearfishing        6.470794\n",
              "wading              6.190976\n",
              "diving              4.372158\n",
              "body boarding       3.095488\n",
              "snorkeling          1.906261\n",
              "watercraft          1.084295\n",
              "freediving          0.839454\n",
              "windsurfing         0.332284\n",
              "paddle boarding     0.314795\n",
              "sea disaster        0.227352\n",
              "boat                0.174886\n",
              "Name: Activity, dtype: float64"
            ]
          },
          "metadata": {
            "tags": []
          },
          "execution_count": 121
        }
      ]
    },
    {
      "cell_type": "markdown",
      "metadata": {
        "id": "Ia2jcVDis3Bo"
      },
      "source": [
        "There still seems to be some overlap between activities. For example, should fishing and spearfishing be counted as the same? What about swimming and wading? Body boarding and surfing? Windsurfing & surfing? For this analysis, we'll keep them as they are currently categorized since they are similar to, but different enough, from each other.\n",
        "\n",
        "Based on the current results, the highest number of attacks occurred on surfers (19%), followed closely by swimmers (15%). Fishing comes in at number 3 with 8.4%"
      ]
    },
    {
      "cell_type": "markdown",
      "metadata": {
        "id": "EKRa0y5Pudut"
      },
      "source": [
        "**Provoked Versus Unprovoked Shark Attacks by Human Activity**\n",
        "\n",
        "With Surfing being the most common human acitivity for all shark attacks, let's take a look at which human activities are the most common for provoked and unprovoked shark attacks. It's doubtful that surfing would a common activity associated with provoked shark attacks, so what activities are most common with provoked attacks?"
      ]
    },
    {
      "cell_type": "code",
      "metadata": {
        "colab": {
          "base_uri": "https://localhost:8080/"
        },
        "id": "VltNJXlgscOA",
        "outputId": "f32a93aa-2b23-45e4-cc26-6c6bc4007e57"
      },
      "source": [
        "# Isolate only the provoked attacks\n",
        "provoked = df[df['Type'] == 'Provoked']\n",
        "provoked['Activity'].value_counts(normalize=True).head(15)*100"
      ],
      "execution_count": 123,
      "outputs": [
        {
          "output_type": "execute_result",
          "data": {
            "text/plain": [
              "fishing                                       36.265709\n",
              "spearfishing                                  10.053860\n",
              "unknown                                        5.745063\n",
              "diving                                         4.129264\n",
              "surfing                                        2.692998\n",
              "swimming                                       1.974865\n",
              "wading                                         1.795332\n",
              "freediving                                     1.436266\n",
              "snorkeling                                     1.256732\n",
              "watercraft                                     0.718133\n",
              "feeding sharks                                 0.538600\n",
              "seine netting                                  0.538600\n",
              "teasing a shark                                0.359066\n",
              "finning the shark that bit him                 0.359066\n",
              "attempting to kill a shark with explosives     0.359066\n",
              "Name: Activity, dtype: float64"
            ]
          },
          "metadata": {
            "tags": []
          },
          "execution_count": 123
        }
      ]
    },
    {
      "cell_type": "code",
      "metadata": {
        "colab": {
          "base_uri": "https://localhost:8080/"
        },
        "id": "0Aj9TPHMu-S8",
        "outputId": "43ef7daf-0070-468a-a11c-3f2e2ea394ac"
      },
      "source": [
        "provoked['Activity'].describe()"
      ],
      "execution_count": 124,
      "outputs": [
        {
          "output_type": "execute_result",
          "data": {
            "text/plain": [
              "count         557\n",
              "unique        189\n",
              "top       fishing\n",
              "freq          202\n",
              "Name: Activity, dtype: object"
            ]
          },
          "metadata": {
            "tags": []
          },
          "execution_count": 124
        }
      ]
    },
    {
      "cell_type": "markdown",
      "metadata": {
        "id": "sxecndxHvUol"
      },
      "source": [
        "By far, fishing was the most dominant human activity for provoked attacks (36%). Second was spearfishing at 10%. It's not surprising that those two acitivities account for 46% of of the provoked attacks. Further research into these activities may be beneficial. There were 189 unique entries for human activity, so let's take a look at the unique values."
      ]
    },
    {
      "cell_type": "code",
      "metadata": {
        "colab": {
          "base_uri": "https://localhost:8080/"
        },
        "id": "WGBpXtkHvSV7",
        "outputId": "87aa2aac-ff43-4207-a554-d6c232ab24ec"
      },
      "source": [
        "provoked['Activity'].unique()"
      ],
      "execution_count": 125,
      "outputs": [
        {
          "output_type": "execute_result",
          "data": {
            "text/plain": [
              "array(['swimming', 'fishing', 'feeding sharks', 'surfing',\n",
              "       'diving in shark tank', 'unknown', 'spearfishing',\n",
              "       'putting hand in shark tank', 'wading', 'freediving',\n",
              "       'kayak fishing for sharks', 'fishing / wading', 'touching a shark',\n",
              "       'attempting to lasso a shark', 'grabbing shark for a selfie',\n",
              "       'lobstering', 'teasing a shark', 'fishing for blue sharks',\n",
              "       'petting a shark', 'longline fishing for sharks',\n",
              "       \"fishing   'tag & release'\",\n",
              "       'attempting to rescue an injured & beached shark',\n",
              "       'diving, feeding sharks', 'fishing (illegally)', 'watercraft',\n",
              "       'diving', 'standing, holding shark pup',\n",
              "       'shark fishing on the ricardo astorga',\n",
              "       'shark fishing on the don agustín vi.', 'snorkeling',\n",
              "       'measuring sharks', 'surf fishing / wading', 'body boarding',\n",
              "       \"accidentally stood on hooked shark's tail before attempting to gut it\",\n",
              "       'fishing for snapper', 'removing hook from shark',\n",
              "       'reviving a sedated shark', 'shark tagging',\n",
              "       'diving / kissing the shark', 'touching sharks', 'tagging sharks',\n",
              "       'removing shark from net', 'scuba diving in aquarium tank',\n",
              "       'diving in aquarium display tank',\n",
              "       'attempting to drive shark away from sailing regatta',\n",
              "       'walking, carrying surfboard & stepped on shark', 'killing sharks',\n",
              "       'petting captive sharks', 'wading, when he stepped on the shark',\n",
              "       'fishing, removing the shark from his line',\n",
              "       'fishing from prawn trawler',\n",
              "       'surfing, fell off surfboard & stepped on the shark.',\n",
              "       'fell onto dead shark', 'conducting research',\n",
              "       'feeding prawns to captive sharks',\n",
              "       \"scientific research (dr. sonny gruber's student)\",\n",
              "       'fishing for tuna', 'moving a shark in a net',\n",
              "       'swimming in fish tank',\n",
              "       'jumped off surfboard & landed on the shark',\n",
              "       'removing shark from tank in nightclub',\n",
              "       'finning the shark that bit him',\n",
              "       \"on board 51' fishing vessel one ki\",\n",
              "       \"fishing, stepped on hooked shark's head\", \"filming 5' blue shark\",\n",
              "       'feeding fish', \"diving in sharkey's reef restaurant’s aquarium\",\n",
              "       \"attempting to lasso shark's tail\",\n",
              "       'returning to shore, collided with shark', 'nsb meshing',\n",
              "       'steinhart aquarium',\n",
              "       'inspecting teeth of supposedly dead (hooked & shot) shark',\n",
              "       'gaffing netted shark', 'spearfishing / scuba diving',\n",
              "       'fishing for white shark', 'fishing for snoek & yellowtail',\n",
              "       'filming & feeding captive sharks',\n",
              "       'diving & force feeding the shark',\n",
              "       'attempting to drag hooked shark ashore by its tail',\n",
              "       'fishing from paddleski', 'scuba diving & feeding fish',\n",
              "       'sight seeing', 'feeding mullet to sharks',\n",
              "       'picking up shark by the tail', 'pulling shark from the water',\n",
              "       'fishing boat', 'feeding a shark', 'spearfishing competition',\n",
              "       'hunting crayfish', 'killing a shark', 'clamming',\n",
              "       'fishing (big game)', 'helping men land a shark',\n",
              "       \"fishing from 34' boat when pulled overboard by hooked shark\",\n",
              "       'spearing fish', 'fishing (rod & line)',\n",
              "       'attempting to anesthetize shark', 'collecting marine specimens',\n",
              "       'filming underwater, carrying powerhead',\n",
              "       'helping friend land hooked shark',\n",
              "       'fishing / standing in waist deep water',\n",
              "       'catching sharks under government contract',\n",
              "       'testing anti shark cage', 'spearfishing, pulled shark’s tail',\n",
              "       'fishing, on charter boat silver dollar', 'finning the shark',\n",
              "       'fishing for albacore',\n",
              "       'scuba diving, attempting to catch a captive shark',\n",
              "       'fishing, two large sharks passed. he speared one and it bit him',\n",
              "       'fishing (trolling) from canoe',\n",
              "       'fishing, speared shark upset canoe & man fell in water',\n",
              "       'fishing from dinghy', 'cleaning a tank',\n",
              "       'collecting aquarium specimens',\n",
              "       'chasing shark out of bathing area while riding on a surf ski',\n",
              "       'fishing inside net',\n",
              "       'holding shark on leader & dangling it above the water',\n",
              "       'helping angler land a shark',\n",
              "       'fishing, tossing netted shark onboard',\n",
              "       'fishing, hauling in a set line',\n",
              "       'spearfishing, shot a sandtiger shark. cord to spear tangled round his legs & a wave washed him onto a reef.',\n",
              "       'fishing, hooked shark towed boat out to sea, storm swamped boat',\n",
              "       'fishing, lifting shark out of craypot',\n",
              "       'standing, watching seine netters',\n",
              "       'spearfishing, smith & walker touched shark with tip of their guns',\n",
              "       'spearfishing, shot shark, hauled it onto boat',\n",
              "       'spearfishing with joe turner (24). shark attracted to speared halibut on belt of one diver, tried to bite ide’s speargun & he shot it in the mouth',\n",
              "       'pulling anchor', 'dragging stranded shark ashore',\n",
              "       'paddling & sailing from buenos aires to miami',\n",
              "       'slapped shark on tail as it swam by',\n",
              "       'swimming, towing the shark',\n",
              "       'placed hand in disemboweled shark’s jaws',\n",
              "       'attempting to net shark in shark channel',\n",
              "       'attempting to kill a shark with explosives',\n",
              "       'floating in inner tube', 'spearfishing & lassoed shark',\n",
              "       \"competing in u/w endurance record, standing beside drum in 10' of water\",\n",
              "       'fishing (trawling)', 'grabbed shark & threw it on deck',\n",
              "       'fishing from market fishboat sea spray',\n",
              "       'landing hooked shark in boat',\n",
              "       'bitten while cutting shark from net',\n",
              "       'spearfishing, speared a small shark', 'fell off surf ski',\n",
              "       'jerked overboard while pole fishing for tuna',\n",
              "       'examining netted shark, that had been shot', 'spearing a shark',\n",
              "       'fishing, shark caught in his net',\n",
              "       'bringing hooked, harpooned shark onboard boat',\n",
              "       'underwater photography',\n",
              "       'moving shark from tuna vessel when boat rolled, placing both man & shark in chest deep water',\n",
              "       'attempting to ride a shark',\n",
              "       'in rubber dinghy with captain eddie rickenbacker for 21 days.',\n",
              "       'sculling', \"fishing from 32' boat\", 'seine netting',\n",
              "       'collecting fish in military trap when bitten by captured shark that had been shot by soldiers with garten',\n",
              "       'dress diving, filming shark & pulling it through the water for a motion picture scene',\n",
              "       \"fishing, removing gaff from shark's mouth\",\n",
              "       'watching seine netters with friends, one of whom picked up a netted shark',\n",
              "       'fishing from launch, fell into net with shark',\n",
              "       \"holding shark's tail\",\n",
              "       'fishing for the shark that killed george lundberg',\n",
              "       'fishing for cod', 'touching the mouth of a supposedly dead shark',\n",
              "       'paddleskiing', 'cruising',\n",
              "       'put foot inside a landed & supposedly dead shark',\n",
              "       'put foot inside mouth of supposedly dead shark',\n",
              "       'hauling in net with shark in it',\n",
              "       \"fishing, caught a 15' shark & took it onboard\",\n",
              "       'on expedition filming a feature movie & standing on tripod',\n",
              "       'gaffing & attempting to bring onboard a harpooned shark',\n",
              "       'fishing, hauling in net, shark in net',\n",
              "       'removing shark from a trap', 'standing in knee deep water',\n",
              "       'wading, netting fish', 'feeling the shark’s teeth',\n",
              "       'shark hoisted on board liner tahiti', 'removing shark from a net',\n",
              "       'hoisting shark aboard fishing boat', 'harpooned shark',\n",
              "       'stuffing a shark into an automobile',\n",
              "       'fishing, attempted to take a netted shark', 'hauling in net',\n",
              "       'hard hat diving', 'shooting sharks', 'standing on ship deck'],\n",
              "      dtype=object)"
            ]
          },
          "metadata": {
            "tags": []
          },
          "execution_count": 125
        }
      ]
    },
    {
      "cell_type": "markdown",
      "metadata": {
        "id": "QXtn4E4fv1q7"
      },
      "source": [
        "The 189 unique entries for human activity for provoked attacks could probably be combined into fewer categories, based on the listing of them. Just from a quick glance at many of these, it looks like fishing is mentioned in the text numerous times in this column. Therefore, we can safely assume that the fishing activity was responsible for much more than the 36% of provoked shark attacks. The bottomline is that fishing is the major human activity ocurring during provoked shark attacks."
      ]
    },
    {
      "cell_type": "code",
      "metadata": {
        "colab": {
          "base_uri": "https://localhost:8080/"
        },
        "id": "BWIdFvH4vuq3",
        "outputId": "e972a613-e722-4a6e-a3d9-223da2fb4390"
      },
      "source": [
        "unprovoked = df[df['Type'] == 'Unprovoked']\n",
        "unprovoked['Activity'].value_counts(normalize=True).head(15)*100"
      ],
      "execution_count": 126,
      "outputs": [
        {
          "output_type": "execute_result",
          "data": {
            "text/plain": [
              "surfing            24.501561\n",
              "swimming           18.496277\n",
              "wading              7.758828\n",
              "spearfishing        6.701898\n",
              "unknown             6.461686\n",
              "diving              4.732164\n",
              "body boarding       3.987509\n",
              "fishing             3.146769\n",
              "snorkeling          2.354072\n",
              "freediving          0.840740\n",
              "windsurfing         0.456402\n",
              "paddle boarding     0.432380\n",
              "watercraft          0.288254\n",
              "fell overboard      0.192169\n",
              "kite boarding       0.120106\n",
              "Name: Activity, dtype: float64"
            ]
          },
          "metadata": {
            "tags": []
          },
          "execution_count": 126
        }
      ]
    },
    {
      "cell_type": "markdown",
      "metadata": {
        "id": "iPJM0gyewVzJ"
      },
      "source": [
        "As expected, surfing (24.5%) and swimming (18.5%) were the most common human activities occurring during unprovoked shark attacks."
      ]
    },
    {
      "cell_type": "markdown",
      "metadata": {
        "id": "VGPaMmzowdUh"
      },
      "source": [
        "**Fatality by Human Activity**\n",
        "\n",
        "Are there certain human activities that lead to a greater fatality rate? Let's take a look at the fatality rates for the documented human activities."
      ]
    },
    {
      "cell_type": "code",
      "metadata": {
        "colab": {
          "base_uri": "https://localhost:8080/"
        },
        "id": "uKh3IfWwwKYc",
        "outputId": "c8729633-b058-4e05-9a89-1cb313d35418"
      },
      "source": [
        "# Create a fatality dataframe by human activity\n",
        "act_fatal = df.groupby('Activity')['Fatal'].sum()\n",
        "act_fatal_df = pd.DataFrame(act_fatal)\n",
        "act_fatal_df.columns = ['Fatal']\n",
        "act_fatal_df.reset_index(inplace=True)\n",
        "\n",
        "# Create a count of incidents dataframe by human activity\n",
        "act_count = df.groupby('Activity')['Fatal'].count()\n",
        "act_count_df = pd.DataFrame(act_count)\n",
        "act_count_df.columns = ['Count']\n",
        "act_count_df.reset_index(inplace=True)\n",
        "\n",
        "# Merge the fatality and count dataframes\n",
        "act_fatal_df = pd.merge(act_fatal_df, act_count_df, how = 'left', on = 'Activity')\n",
        "print(act_fatal_df)"
      ],
      "execution_count": 127,
      "outputs": [
        {
          "output_type": "stream",
          "text": [
            "                                               Activity  Fatal  Count\n",
            "0     \"climbing up to ship after repairing the stern...      1      1\n",
            "1     \"flying tiger\" transport plane went down with ...      1      2\n",
            "2                             \"riding waves on a board\"      0      1\n",
            "3                                 \"swimming vigorously\"      0      1\n",
            "4                                                     .      1      3\n",
            "...                                                 ...    ...    ...\n",
            "1225                          wreck of the tug magellan      1      1\n",
            "1226   yacht gooney bird foundered, 4 survivors on raft      0      1\n",
            "1227                   yacht of michael howell capsized      1      1\n",
            "1228                                         yacht race      0      1\n",
            "1229  zosimo & his son, jeffrey popa, failed to retu...      0      1\n",
            "\n",
            "[1230 rows x 3 columns]\n"
          ],
          "name": "stdout"
        }
      ]
    },
    {
      "cell_type": "code",
      "metadata": {
        "colab": {
          "base_uri": "https://localhost:8080/"
        },
        "id": "oG5iVfCvxH2X",
        "outputId": "eb143911-6210-4fbc-cb77-e43de31723dc"
      },
      "source": [
        "# Calcualate a fatility rate by activity\n",
        "act_fatal_df['Fatality Rate'] = act_fatal_df['Fatal'] / act_fatal_df['Count']\n",
        "print(act_fatal_df)"
      ],
      "execution_count": 128,
      "outputs": [
        {
          "output_type": "stream",
          "text": [
            "                                               Activity  ...  Fatality Rate\n",
            "0     \"climbing up to ship after repairing the stern...  ...       1.000000\n",
            "1     \"flying tiger\" transport plane went down with ...  ...       0.500000\n",
            "2                             \"riding waves on a board\"  ...       0.000000\n",
            "3                                 \"swimming vigorously\"  ...       0.000000\n",
            "4                                                     .  ...       0.333333\n",
            "...                                                 ...  ...            ...\n",
            "1225                          wreck of the tug magellan  ...       1.000000\n",
            "1226   yacht gooney bird foundered, 4 survivors on raft  ...       0.000000\n",
            "1227                   yacht of michael howell capsized  ...       1.000000\n",
            "1228                                         yacht race  ...       0.000000\n",
            "1229  zosimo & his son, jeffrey popa, failed to retu...  ...       0.000000\n",
            "\n",
            "[1230 rows x 4 columns]\n"
          ],
          "name": "stdout"
        }
      ]
    },
    {
      "cell_type": "code",
      "metadata": {
        "colab": {
          "base_uri": "https://localhost:8080/"
        },
        "id": "QdA7RL2RxbE5",
        "outputId": "001f741c-8567-4499-d5ae-79d464441c49"
      },
      "source": [
        "# Reverse the sorting of the activities for horizontal bar chart\n",
        "act_top15_h = act_fatal_df.sort_values(by=['Count'],ascending=False, ignore_index=True)[0:15]\n",
        "print(act_top15_h)"
      ],
      "execution_count": 136,
      "outputs": [
        {
          "output_type": "stream",
          "text": [
            "           Activity  Fatal  Count  Fatality Rate\n",
            "0           surfing     49   1085       0.045161\n",
            "1          swimming    263    872       0.301606\n",
            "2           fishing     37    482       0.076763\n",
            "3           unknown     73    445       0.164045\n",
            "4      spearfishing     49    370       0.132432\n",
            "5            wading     58    354       0.163842\n",
            "6            diving     38    250       0.152000\n",
            "7     body boarding     25    177       0.141243\n",
            "8        snorkeling     18    109       0.165138\n",
            "9        watercraft      3     62       0.048387\n",
            "10       freediving      7     48       0.145833\n",
            "11      windsurfing      3     19       0.157895\n",
            "12  paddle boarding      0     18       0.000000\n",
            "13     sea disaster      6     13       0.461538\n",
            "14             boat      0     10       0.000000\n"
          ],
          "name": "stdout"
        }
      ]
    },
    {
      "cell_type": "code",
      "metadata": {
        "colab": {
          "base_uri": "https://localhost:8080/",
          "height": 605
        },
        "id": "0ACka15PyXLa",
        "outputId": "74dbb7f9-cef4-4949-833f-d6e6c427d329"
      },
      "source": [
        "# Plot the number of shark attacks and fatality rate versus the human activity\n",
        "fig,ax = plt.subplots(figsize=(9,9))\n",
        "ax.barh(act_top15_h['Activity'], act_top15_h['Fatality Rate'],color=\"red\", height=-0.4, alpha=0.8, align='edge')\n",
        "ax.set_xlabel(\"Fatality Rate\",color=\"red\",fontsize=14)\n",
        "ax.set_ylabel(\"Activity\",fontsize=14)\n",
        "ax2=ax.twiny()\n",
        "ax2.barh(act_top15_h['Activity'], act_top15_h['Count'], color=\"blue\", height=0.4, alpha=0.8, align='edge')\n",
        "ax2.set_xlabel(\"# of Shark Attacks\",color=\"blue\",fontsize=14)\n",
        "plt.title('# of Shark Attacks and Fatality Rates by Human Activity', fontsize=16)\n",
        "plt.show()"
      ],
      "execution_count": 137,
      "outputs": [
        {
          "output_type": "display_data",
          "data": {
            "image/png": "[encoded data removed]",
            "text/plain": [
              "<Figure size 648x648 with 2 Axes>"
            ]
          },
          "metadata": {
            "tags": [],
            "needs_background": "light"
          }
        }
      ]
    },
    {
      "cell_type": "markdown",
      "metadata": {
        "id": "HaJiLQ5V0vIk"
      },
      "source": [
        "Surfing was the activity that shows the highest number of shark attacks worldwide, at ~19%, followed by swimming at ~15%. However, the highest fatality rate was the sea disaster activity, at ~46%, but the number of attacks for that activity was quite low (13, with 6 being fatal). Of the higher number of attacks (>50), swimming had the highest fatality rate (30%)."
      ]
    },
    {
      "cell_type": "markdown",
      "metadata": {
        "id": "M_3e7a7Z1CpX"
      },
      "source": [
        "**Summary and Future Efforts**\n",
        "\n",
        "The Global Shark Attack File dataset provided a good review of data cleaning, analysis and visualization. The disadvantage to this dataset was the lack of metadata or any explanations of the information found in the dataset. Here is a quick rundown of the results of the analysis of shark attacks since 1900:\n",
        "\n",
        "Type of attack - nearly 73% were unprovoked, with just under 10% were identified as being a provoked incident. In other words, the majority of shark attacks occur on unsuspecting humans.\n",
        "\n",
        "Fatalities - worldwide, approximately 18% of the shark attacks were fatal. While the USA had the most recorded shark attacks, it also had the third lowest fatality rate (6%). Australia had the second most number of attacks, but its fatality rate matched that of the worldwide rate - 18%.\n",
        "\n",
        "Shark species involved - while there are over 5000 records of shark attacks since 1900, about 1000 had an identifiable shark species documented. Of those, the White Shark had the highest number of attacks (222) and the second highest fatality rate (24%). The Tiger Shark was second in number of attacks (143), but first in fatality rate (22%).\n",
        "\n",
        "Human Activity - surfing was the most popular human activity documented in the dataset, with over 1000 occurrences. Conversely, the fatality rate for surfers was relatively low - 4.5%. Swimming was the second most common, and the fatality rate was the second highest - 30%. Therefore, surfers are more likely to get bit by a shark, but swimmers were much more likely to die from a shark attack"
      ]
    },
    {
      "cell_type": "code",
      "metadata": {
        "id": "A6iGMk_1y2gQ"
      },
      "source": [
        "# Export cleaned GSAF dataset\n",
        "#df.to_csv(r'C:\\Users\\hp\\Desktop\\Data Science\\Personal Projects\\Global Shark Attack\\GSAF5_cleaned.csv', index=False)"
      ],
      "execution_count": 138,
      "outputs": []
    },
    {
      "cell_type": "code",
      "metadata": {
        "id": "it_mVhcp7yr8"
      },
      "source": [
        ""
      ],
      "execution_count": null,
      "outputs": []
    }
  ]
}